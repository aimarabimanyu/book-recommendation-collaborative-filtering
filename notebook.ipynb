{
  "cells": [
    {
      "cell_type": "markdown",
      "source": [
        "# Importing Libraries"
      ],
      "metadata": {
        "collapsed": false,
        "id": "3ffac274b4acae15"
      },
      "id": "3ffac274b4acae15"
    },
    {
      "cell_type": "code",
      "execution_count": null,
      "id": "initial_id",
      "metadata": {
        "collapsed": true,
        "ExecuteTime": {
          "end_time": "2023-10-08T23:33:09.136002500Z",
          "start_time": "2023-10-08T23:33:08.055694100Z"
        },
        "id": "initial_id"
      },
      "outputs": [],
      "source": [
        "import pandas as pd\n",
        "import numpy as np\n",
        "import tensorflow as tf\n",
        "from sklearn.preprocessing import MinMaxScaler\n",
        "import matplotlib.pyplot as plt"
      ]
    },
    {
      "cell_type": "markdown",
      "source": [
        "# Load Dataset"
      ],
      "metadata": {
        "collapsed": false,
        "id": "1da66ac6f858d77b"
      },
      "id": "1da66ac6f858d77b"
    },
    {
      "cell_type": "code",
      "source": [
        "from google.colab import drive\n",
        "drive.mount('/content/drive')"
      ],
      "metadata": {
        "colab": {
          "base_uri": "https://localhost:8080/"
        },
        "id": "EJHItzAbuuKe",
        "outputId": "87a013b2-4fba-4f9c-8d0e-61567dee4734"
      },
      "id": "EJHItzAbuuKe",
      "execution_count": null,
      "outputs": [
        {
          "output_type": "stream",
          "name": "stdout",
          "text": [
            "Mounted at /content/drive\n"
          ]
        }
      ]
    },
    {
      "cell_type": "code",
      "execution_count": null,
      "outputs": [
        {
          "output_type": "stream",
          "name": "stderr",
          "text": [
            "<ipython-input-97-e055582ad072>:1: DtypeWarning: Columns (3) have mixed types. Specify dtype option on import or set low_memory=False.\n",
            "  books = pd.read_csv('/content/drive/MyDrive/Dataset/Rekomendasi_Buku/Books.csv')\n"
          ]
        }
      ],
      "source": [
        "books = pd.read_csv('/content/drive/MyDrive/Dataset/Rekomendasi_Buku/Books.csv')\n",
        "ratings = pd.read_csv('/content/drive/MyDrive/Dataset/Rekomendasi_Buku/Ratings.csv')\n",
        "users = pd.read_csv('/content/drive/MyDrive/Dataset/Rekomendasi_Buku/Users.csv')"
      ],
      "metadata": {
        "ExecuteTime": {
          "end_time": "2023-10-08T23:23:38.828821800Z",
          "start_time": "2023-10-08T23:23:36.473998900Z"
        },
        "colab": {
          "base_uri": "https://localhost:8080/"
        },
        "id": "94688e928fdb111e",
        "outputId": "7a6e4c59-4a23-4894-8164-9f69e16d22ae"
      },
      "id": "94688e928fdb111e"
    },
    {
      "cell_type": "markdown",
      "source": [
        "# Exploratory Data Analysis"
      ],
      "metadata": {
        "collapsed": false,
        "id": "ef7a30947c6ca51a"
      },
      "id": "ef7a30947c6ca51a"
    },
    {
      "cell_type": "markdown",
      "source": [
        "### Cek Jumlah Data Unik Pada Tiap Dataset"
      ],
      "metadata": {
        "collapsed": false,
        "id": "6a1208c9085a7487"
      },
      "id": "6a1208c9085a7487"
    },
    {
      "cell_type": "code",
      "execution_count": null,
      "outputs": [
        {
          "output_type": "stream",
          "name": "stdout",
          "text": [
            "Jumlah Data Unik Pada Dataset Books:\n",
            "ISBN                   271360\n",
            "Book-Title             242135\n",
            "Book-Author            102023\n",
            "Year-Of-Publication       202\n",
            "Publisher               16807\n",
            "Image-URL-S            271044\n",
            "Image-URL-M            271044\n",
            "Image-URL-L            271041\n",
            "dtype: int64 \n",
            "\n",
            "Jumlah Data Unik Pada Dataset Ratings:\n",
            "User-ID        105283\n",
            "ISBN           340556\n",
            "Book-Rating        11\n",
            "dtype: int64 \n",
            "\n",
            "Jumlah Data Unik Pada Dataset Users:\n",
            "User-ID     278858\n",
            "Location     57339\n",
            "Age            165\n",
            "dtype: int64\n"
          ]
        }
      ],
      "source": [
        "print('Jumlah Data Unik Pada Dataset Books:')\n",
        "print(books.nunique(), '\\n')\n",
        "print('Jumlah Data Unik Pada Dataset Ratings:')\n",
        "print(ratings.nunique(), '\\n')\n",
        "print('Jumlah Data Unik Pada Dataset Users:')\n",
        "print(users.nunique())"
      ],
      "metadata": {
        "ExecuteTime": {
          "end_time": "2023-10-08T23:23:39.685656Z",
          "start_time": "2023-10-08T23:23:38.833807500Z"
        },
        "colab": {
          "base_uri": "https://localhost:8080/"
        },
        "id": "4537e8757615c619",
        "outputId": "8a28a08a-a919-4f72-85cf-f1cb06896118"
      },
      "id": "4537e8757615c619"
    },
    {
      "cell_type": "markdown",
      "source": [
        "#### Cek Deskripsi Statistik Data Books Menggunakan Fungsi Info()"
      ],
      "metadata": {
        "collapsed": false,
        "id": "214248408258fb4d"
      },
      "id": "214248408258fb4d"
    },
    {
      "cell_type": "code",
      "execution_count": null,
      "outputs": [
        {
          "output_type": "stream",
          "name": "stdout",
          "text": [
            "<class 'pandas.core.frame.DataFrame'>\n",
            "RangeIndex: 271360 entries, 0 to 271359\n",
            "Data columns (total 8 columns):\n",
            " #   Column               Non-Null Count   Dtype \n",
            "---  ------               --------------   ----- \n",
            " 0   ISBN                 271360 non-null  object\n",
            " 1   Book-Title           271360 non-null  object\n",
            " 2   Book-Author          271359 non-null  object\n",
            " 3   Year-Of-Publication  271360 non-null  object\n",
            " 4   Publisher            271358 non-null  object\n",
            " 5   Image-URL-S          271360 non-null  object\n",
            " 6   Image-URL-M          271360 non-null  object\n",
            " 7   Image-URL-L          271357 non-null  object\n",
            "dtypes: object(8)\n",
            "memory usage: 16.6+ MB\n"
          ]
        }
      ],
      "source": [
        "books.info()"
      ],
      "metadata": {
        "ExecuteTime": {
          "end_time": "2023-10-08T23:23:39.807330200Z",
          "start_time": "2023-10-08T23:23:39.674685200Z"
        },
        "colab": {
          "base_uri": "https://localhost:8080/"
        },
        "id": "51cebc24dfe91679",
        "outputId": "ebbba89f-89a7-4d09-9420-d2f26f2a3e88"
      },
      "id": "51cebc24dfe91679"
    },
    {
      "cell_type": "markdown",
      "source": [
        "#### Lihat Data Books"
      ],
      "metadata": {
        "collapsed": false,
        "id": "3190eb1d76a810b1"
      },
      "id": "3190eb1d76a810b1"
    },
    {
      "cell_type": "code",
      "execution_count": null,
      "outputs": [
        {
          "output_type": "execute_result",
          "data": {
            "text/plain": [
              "              ISBN                                         Book-Title  \\\n",
              "0       0195153448                                Classical Mythology   \n",
              "1       0002005018                                       Clara Callan   \n",
              "2       0060973129                               Decision in Normandy   \n",
              "3       0374157065  Flu: The Story of the Great Influenza Pandemic...   \n",
              "4       0393045218                             The Mummies of Urumchi   \n",
              "...            ...                                                ...   \n",
              "271355  0440400988                         There's a Bat in Bunk Five   \n",
              "271356  0525447644                            From One to One Hundred   \n",
              "271357  006008667X  Lily Dale : The True Story of the Town that Ta...   \n",
              "271358  0192126040                        Republic (World's Classics)   \n",
              "271359  0767409752  A Guided Tour of Rene Descartes' Meditations o...   \n",
              "\n",
              "                 Book-Author Year-Of-Publication  \\\n",
              "0         Mark P. O. Morford                2002   \n",
              "1       Richard Bruce Wright                2001   \n",
              "2               Carlo D'Este                1991   \n",
              "3           Gina Bari Kolata                1999   \n",
              "4            E. J. W. Barber                1999   \n",
              "...                      ...                 ...   \n",
              "271355        Paula Danziger                1988   \n",
              "271356            Teri Sloat                1991   \n",
              "271357      Christine Wicker                2004   \n",
              "271358                 Plato                1996   \n",
              "271359   Christopher  Biffle                2000   \n",
              "\n",
              "                                               Publisher  \\\n",
              "0                                Oxford University Press   \n",
              "1                                  HarperFlamingo Canada   \n",
              "2                                        HarperPerennial   \n",
              "3                                   Farrar Straus Giroux   \n",
              "4                             W. W. Norton &amp; Company   \n",
              "...                                                  ...   \n",
              "271355                   Random House Childrens Pub (Mm)   \n",
              "271356                                      Dutton Books   \n",
              "271357                                HarperSanFrancisco   \n",
              "271358                           Oxford University Press   \n",
              "271359  McGraw-Hill Humanities/Social Sciences/Languages   \n",
              "\n",
              "                                              Image-URL-S  \\\n",
              "0       http://images.amazon.com/images/P/0195153448.0...   \n",
              "1       http://images.amazon.com/images/P/0002005018.0...   \n",
              "2       http://images.amazon.com/images/P/0060973129.0...   \n",
              "3       http://images.amazon.com/images/P/0374157065.0...   \n",
              "4       http://images.amazon.com/images/P/0393045218.0...   \n",
              "...                                                   ...   \n",
              "271355  http://images.amazon.com/images/P/0440400988.0...   \n",
              "271356  http://images.amazon.com/images/P/0525447644.0...   \n",
              "271357  http://images.amazon.com/images/P/006008667X.0...   \n",
              "271358  http://images.amazon.com/images/P/0192126040.0...   \n",
              "271359  http://images.amazon.com/images/P/0767409752.0...   \n",
              "\n",
              "                                              Image-URL-M  \\\n",
              "0       http://images.amazon.com/images/P/0195153448.0...   \n",
              "1       http://images.amazon.com/images/P/0002005018.0...   \n",
              "2       http://images.amazon.com/images/P/0060973129.0...   \n",
              "3       http://images.amazon.com/images/P/0374157065.0...   \n",
              "4       http://images.amazon.com/images/P/0393045218.0...   \n",
              "...                                                   ...   \n",
              "271355  http://images.amazon.com/images/P/0440400988.0...   \n",
              "271356  http://images.amazon.com/images/P/0525447644.0...   \n",
              "271357  http://images.amazon.com/images/P/006008667X.0...   \n",
              "271358  http://images.amazon.com/images/P/0192126040.0...   \n",
              "271359  http://images.amazon.com/images/P/0767409752.0...   \n",
              "\n",
              "                                              Image-URL-L  \n",
              "0       http://images.amazon.com/images/P/0195153448.0...  \n",
              "1       http://images.amazon.com/images/P/0002005018.0...  \n",
              "2       http://images.amazon.com/images/P/0060973129.0...  \n",
              "3       http://images.amazon.com/images/P/0374157065.0...  \n",
              "4       http://images.amazon.com/images/P/0393045218.0...  \n",
              "...                                                   ...  \n",
              "271355  http://images.amazon.com/images/P/0440400988.0...  \n",
              "271356  http://images.amazon.com/images/P/0525447644.0...  \n",
              "271357  http://images.amazon.com/images/P/006008667X.0...  \n",
              "271358  http://images.amazon.com/images/P/0192126040.0...  \n",
              "271359  http://images.amazon.com/images/P/0767409752.0...  \n",
              "\n",
              "[271360 rows x 8 columns]"
            ],
            "text/html": [
              "\n",
              "  <div id=\"df-2b6b320e-96ed-4273-99b4-32eab271c57b\" class=\"colab-df-container\">\n",
              "    <div>\n",
              "<style scoped>\n",
              "    .dataframe tbody tr th:only-of-type {\n",
              "        vertical-align: middle;\n",
              "    }\n",
              "\n",
              "    .dataframe tbody tr th {\n",
              "        vertical-align: top;\n",
              "    }\n",
              "\n",
              "    .dataframe thead th {\n",
              "        text-align: right;\n",
              "    }\n",
              "</style>\n",
              "<table border=\"1\" class=\"dataframe\">\n",
              "  <thead>\n",
              "    <tr style=\"text-align: right;\">\n",
              "      <th></th>\n",
              "      <th>ISBN</th>\n",
              "      <th>Book-Title</th>\n",
              "      <th>Book-Author</th>\n",
              "      <th>Year-Of-Publication</th>\n",
              "      <th>Publisher</th>\n",
              "      <th>Image-URL-S</th>\n",
              "      <th>Image-URL-M</th>\n",
              "      <th>Image-URL-L</th>\n",
              "    </tr>\n",
              "  </thead>\n",
              "  <tbody>\n",
              "    <tr>\n",
              "      <th>0</th>\n",
              "      <td>0195153448</td>\n",
              "      <td>Classical Mythology</td>\n",
              "      <td>Mark P. O. Morford</td>\n",
              "      <td>2002</td>\n",
              "      <td>Oxford University Press</td>\n",
              "      <td>http://images.amazon.com/images/P/0195153448.0...</td>\n",
              "      <td>http://images.amazon.com/images/P/0195153448.0...</td>\n",
              "      <td>http://images.amazon.com/images/P/0195153448.0...</td>\n",
              "    </tr>\n",
              "    <tr>\n",
              "      <th>1</th>\n",
              "      <td>0002005018</td>\n",
              "      <td>Clara Callan</td>\n",
              "      <td>Richard Bruce Wright</td>\n",
              "      <td>2001</td>\n",
              "      <td>HarperFlamingo Canada</td>\n",
              "      <td>http://images.amazon.com/images/P/0002005018.0...</td>\n",
              "      <td>http://images.amazon.com/images/P/0002005018.0...</td>\n",
              "      <td>http://images.amazon.com/images/P/0002005018.0...</td>\n",
              "    </tr>\n",
              "    <tr>\n",
              "      <th>2</th>\n",
              "      <td>0060973129</td>\n",
              "      <td>Decision in Normandy</td>\n",
              "      <td>Carlo D'Este</td>\n",
              "      <td>1991</td>\n",
              "      <td>HarperPerennial</td>\n",
              "      <td>http://images.amazon.com/images/P/0060973129.0...</td>\n",
              "      <td>http://images.amazon.com/images/P/0060973129.0...</td>\n",
              "      <td>http://images.amazon.com/images/P/0060973129.0...</td>\n",
              "    </tr>\n",
              "    <tr>\n",
              "      <th>3</th>\n",
              "      <td>0374157065</td>\n",
              "      <td>Flu: The Story of the Great Influenza Pandemic...</td>\n",
              "      <td>Gina Bari Kolata</td>\n",
              "      <td>1999</td>\n",
              "      <td>Farrar Straus Giroux</td>\n",
              "      <td>http://images.amazon.com/images/P/0374157065.0...</td>\n",
              "      <td>http://images.amazon.com/images/P/0374157065.0...</td>\n",
              "      <td>http://images.amazon.com/images/P/0374157065.0...</td>\n",
              "    </tr>\n",
              "    <tr>\n",
              "      <th>4</th>\n",
              "      <td>0393045218</td>\n",
              "      <td>The Mummies of Urumchi</td>\n",
              "      <td>E. J. W. Barber</td>\n",
              "      <td>1999</td>\n",
              "      <td>W. W. Norton &amp;amp; Company</td>\n",
              "      <td>http://images.amazon.com/images/P/0393045218.0...</td>\n",
              "      <td>http://images.amazon.com/images/P/0393045218.0...</td>\n",
              "      <td>http://images.amazon.com/images/P/0393045218.0...</td>\n",
              "    </tr>\n",
              "    <tr>\n",
              "      <th>...</th>\n",
              "      <td>...</td>\n",
              "      <td>...</td>\n",
              "      <td>...</td>\n",
              "      <td>...</td>\n",
              "      <td>...</td>\n",
              "      <td>...</td>\n",
              "      <td>...</td>\n",
              "      <td>...</td>\n",
              "    </tr>\n",
              "    <tr>\n",
              "      <th>271355</th>\n",
              "      <td>0440400988</td>\n",
              "      <td>There's a Bat in Bunk Five</td>\n",
              "      <td>Paula Danziger</td>\n",
              "      <td>1988</td>\n",
              "      <td>Random House Childrens Pub (Mm)</td>\n",
              "      <td>http://images.amazon.com/images/P/0440400988.0...</td>\n",
              "      <td>http://images.amazon.com/images/P/0440400988.0...</td>\n",
              "      <td>http://images.amazon.com/images/P/0440400988.0...</td>\n",
              "    </tr>\n",
              "    <tr>\n",
              "      <th>271356</th>\n",
              "      <td>0525447644</td>\n",
              "      <td>From One to One Hundred</td>\n",
              "      <td>Teri Sloat</td>\n",
              "      <td>1991</td>\n",
              "      <td>Dutton Books</td>\n",
              "      <td>http://images.amazon.com/images/P/0525447644.0...</td>\n",
              "      <td>http://images.amazon.com/images/P/0525447644.0...</td>\n",
              "      <td>http://images.amazon.com/images/P/0525447644.0...</td>\n",
              "    </tr>\n",
              "    <tr>\n",
              "      <th>271357</th>\n",
              "      <td>006008667X</td>\n",
              "      <td>Lily Dale : The True Story of the Town that Ta...</td>\n",
              "      <td>Christine Wicker</td>\n",
              "      <td>2004</td>\n",
              "      <td>HarperSanFrancisco</td>\n",
              "      <td>http://images.amazon.com/images/P/006008667X.0...</td>\n",
              "      <td>http://images.amazon.com/images/P/006008667X.0...</td>\n",
              "      <td>http://images.amazon.com/images/P/006008667X.0...</td>\n",
              "    </tr>\n",
              "    <tr>\n",
              "      <th>271358</th>\n",
              "      <td>0192126040</td>\n",
              "      <td>Republic (World's Classics)</td>\n",
              "      <td>Plato</td>\n",
              "      <td>1996</td>\n",
              "      <td>Oxford University Press</td>\n",
              "      <td>http://images.amazon.com/images/P/0192126040.0...</td>\n",
              "      <td>http://images.amazon.com/images/P/0192126040.0...</td>\n",
              "      <td>http://images.amazon.com/images/P/0192126040.0...</td>\n",
              "    </tr>\n",
              "    <tr>\n",
              "      <th>271359</th>\n",
              "      <td>0767409752</td>\n",
              "      <td>A Guided Tour of Rene Descartes' Meditations o...</td>\n",
              "      <td>Christopher  Biffle</td>\n",
              "      <td>2000</td>\n",
              "      <td>McGraw-Hill Humanities/Social Sciences/Languages</td>\n",
              "      <td>http://images.amazon.com/images/P/0767409752.0...</td>\n",
              "      <td>http://images.amazon.com/images/P/0767409752.0...</td>\n",
              "      <td>http://images.amazon.com/images/P/0767409752.0...</td>\n",
              "    </tr>\n",
              "  </tbody>\n",
              "</table>\n",
              "<p>271360 rows × 8 columns</p>\n",
              "</div>\n",
              "    <div class=\"colab-df-buttons\">\n",
              "\n",
              "  <div class=\"colab-df-container\">\n",
              "    <button class=\"colab-df-convert\" onclick=\"convertToInteractive('df-2b6b320e-96ed-4273-99b4-32eab271c57b')\"\n",
              "            title=\"Convert this dataframe to an interactive table.\"\n",
              "            style=\"display:none;\">\n",
              "\n",
              "  <svg xmlns=\"http://www.w3.org/2000/svg\" height=\"24px\" viewBox=\"0 -960 960 960\">\n",
              "    <path d=\"M120-120v-720h720v720H120Zm60-500h600v-160H180v160Zm220 220h160v-160H400v160Zm0 220h160v-160H400v160ZM180-400h160v-160H180v160Zm440 0h160v-160H620v160ZM180-180h160v-160H180v160Zm440 0h160v-160H620v160Z\"/>\n",
              "  </svg>\n",
              "    </button>\n",
              "\n",
              "  <style>\n",
              "    .colab-df-container {\n",
              "      display:flex;\n",
              "      gap: 12px;\n",
              "    }\n",
              "\n",
              "    .colab-df-convert {\n",
              "      background-color: #E8F0FE;\n",
              "      border: none;\n",
              "      border-radius: 50%;\n",
              "      cursor: pointer;\n",
              "      display: none;\n",
              "      fill: #1967D2;\n",
              "      height: 32px;\n",
              "      padding: 0 0 0 0;\n",
              "      width: 32px;\n",
              "    }\n",
              "\n",
              "    .colab-df-convert:hover {\n",
              "      background-color: #E2EBFA;\n",
              "      box-shadow: 0px 1px 2px rgba(60, 64, 67, 0.3), 0px 1px 3px 1px rgba(60, 64, 67, 0.15);\n",
              "      fill: #174EA6;\n",
              "    }\n",
              "\n",
              "    .colab-df-buttons div {\n",
              "      margin-bottom: 4px;\n",
              "    }\n",
              "\n",
              "    [theme=dark] .colab-df-convert {\n",
              "      background-color: #3B4455;\n",
              "      fill: #D2E3FC;\n",
              "    }\n",
              "\n",
              "    [theme=dark] .colab-df-convert:hover {\n",
              "      background-color: #434B5C;\n",
              "      box-shadow: 0px 1px 3px 1px rgba(0, 0, 0, 0.15);\n",
              "      filter: drop-shadow(0px 1px 2px rgba(0, 0, 0, 0.3));\n",
              "      fill: #FFFFFF;\n",
              "    }\n",
              "  </style>\n",
              "\n",
              "    <script>\n",
              "      const buttonEl =\n",
              "        document.querySelector('#df-2b6b320e-96ed-4273-99b4-32eab271c57b button.colab-df-convert');\n",
              "      buttonEl.style.display =\n",
              "        google.colab.kernel.accessAllowed ? 'block' : 'none';\n",
              "\n",
              "      async function convertToInteractive(key) {\n",
              "        const element = document.querySelector('#df-2b6b320e-96ed-4273-99b4-32eab271c57b');\n",
              "        const dataTable =\n",
              "          await google.colab.kernel.invokeFunction('convertToInteractive',\n",
              "                                                    [key], {});\n",
              "        if (!dataTable) return;\n",
              "\n",
              "        const docLinkHtml = 'Like what you see? Visit the ' +\n",
              "          '<a target=\"_blank\" href=https://colab.research.google.com/notebooks/data_table.ipynb>data table notebook</a>'\n",
              "          + ' to learn more about interactive tables.';\n",
              "        element.innerHTML = '';\n",
              "        dataTable['output_type'] = 'display_data';\n",
              "        await google.colab.output.renderOutput(dataTable, element);\n",
              "        const docLink = document.createElement('div');\n",
              "        docLink.innerHTML = docLinkHtml;\n",
              "        element.appendChild(docLink);\n",
              "      }\n",
              "    </script>\n",
              "  </div>\n",
              "\n",
              "\n",
              "<div id=\"df-79e69349-b15e-4115-b4d8-e62e9cf7464c\">\n",
              "  <button class=\"colab-df-quickchart\" onclick=\"quickchart('df-79e69349-b15e-4115-b4d8-e62e9cf7464c')\"\n",
              "            title=\"Suggest charts.\"\n",
              "            style=\"display:none;\">\n",
              "\n",
              "<svg xmlns=\"http://www.w3.org/2000/svg\" height=\"24px\"viewBox=\"0 0 24 24\"\n",
              "     width=\"24px\">\n",
              "    <g>\n",
              "        <path d=\"M19 3H5c-1.1 0-2 .9-2 2v14c0 1.1.9 2 2 2h14c1.1 0 2-.9 2-2V5c0-1.1-.9-2-2-2zM9 17H7v-7h2v7zm4 0h-2V7h2v10zm4 0h-2v-4h2v4z\"/>\n",
              "    </g>\n",
              "</svg>\n",
              "  </button>\n",
              "\n",
              "<style>\n",
              "  .colab-df-quickchart {\n",
              "      --bg-color: #E8F0FE;\n",
              "      --fill-color: #1967D2;\n",
              "      --hover-bg-color: #E2EBFA;\n",
              "      --hover-fill-color: #174EA6;\n",
              "      --disabled-fill-color: #AAA;\n",
              "      --disabled-bg-color: #DDD;\n",
              "  }\n",
              "\n",
              "  [theme=dark] .colab-df-quickchart {\n",
              "      --bg-color: #3B4455;\n",
              "      --fill-color: #D2E3FC;\n",
              "      --hover-bg-color: #434B5C;\n",
              "      --hover-fill-color: #FFFFFF;\n",
              "      --disabled-bg-color: #3B4455;\n",
              "      --disabled-fill-color: #666;\n",
              "  }\n",
              "\n",
              "  .colab-df-quickchart {\n",
              "    background-color: var(--bg-color);\n",
              "    border: none;\n",
              "    border-radius: 50%;\n",
              "    cursor: pointer;\n",
              "    display: none;\n",
              "    fill: var(--fill-color);\n",
              "    height: 32px;\n",
              "    padding: 0;\n",
              "    width: 32px;\n",
              "  }\n",
              "\n",
              "  .colab-df-quickchart:hover {\n",
              "    background-color: var(--hover-bg-color);\n",
              "    box-shadow: 0 1px 2px rgba(60, 64, 67, 0.3), 0 1px 3px 1px rgba(60, 64, 67, 0.15);\n",
              "    fill: var(--button-hover-fill-color);\n",
              "  }\n",
              "\n",
              "  .colab-df-quickchart-complete:disabled,\n",
              "  .colab-df-quickchart-complete:disabled:hover {\n",
              "    background-color: var(--disabled-bg-color);\n",
              "    fill: var(--disabled-fill-color);\n",
              "    box-shadow: none;\n",
              "  }\n",
              "\n",
              "  .colab-df-spinner {\n",
              "    border: 2px solid var(--fill-color);\n",
              "    border-color: transparent;\n",
              "    border-bottom-color: var(--fill-color);\n",
              "    animation:\n",
              "      spin 1s steps(1) infinite;\n",
              "  }\n",
              "\n",
              "  @keyframes spin {\n",
              "    0% {\n",
              "      border-color: transparent;\n",
              "      border-bottom-color: var(--fill-color);\n",
              "      border-left-color: var(--fill-color);\n",
              "    }\n",
              "    20% {\n",
              "      border-color: transparent;\n",
              "      border-left-color: var(--fill-color);\n",
              "      border-top-color: var(--fill-color);\n",
              "    }\n",
              "    30% {\n",
              "      border-color: transparent;\n",
              "      border-left-color: var(--fill-color);\n",
              "      border-top-color: var(--fill-color);\n",
              "      border-right-color: var(--fill-color);\n",
              "    }\n",
              "    40% {\n",
              "      border-color: transparent;\n",
              "      border-right-color: var(--fill-color);\n",
              "      border-top-color: var(--fill-color);\n",
              "    }\n",
              "    60% {\n",
              "      border-color: transparent;\n",
              "      border-right-color: var(--fill-color);\n",
              "    }\n",
              "    80% {\n",
              "      border-color: transparent;\n",
              "      border-right-color: var(--fill-color);\n",
              "      border-bottom-color: var(--fill-color);\n",
              "    }\n",
              "    90% {\n",
              "      border-color: transparent;\n",
              "      border-bottom-color: var(--fill-color);\n",
              "    }\n",
              "  }\n",
              "</style>\n",
              "\n",
              "  <script>\n",
              "    async function quickchart(key) {\n",
              "      const quickchartButtonEl =\n",
              "        document.querySelector('#' + key + ' button');\n",
              "      quickchartButtonEl.disabled = true;  // To prevent multiple clicks.\n",
              "      quickchartButtonEl.classList.add('colab-df-spinner');\n",
              "      try {\n",
              "        const charts = await google.colab.kernel.invokeFunction(\n",
              "            'suggestCharts', [key], {});\n",
              "      } catch (error) {\n",
              "        console.error('Error during call to suggestCharts:', error);\n",
              "      }\n",
              "      quickchartButtonEl.classList.remove('colab-df-spinner');\n",
              "      quickchartButtonEl.classList.add('colab-df-quickchart-complete');\n",
              "    }\n",
              "    (() => {\n",
              "      let quickchartButtonEl =\n",
              "        document.querySelector('#df-79e69349-b15e-4115-b4d8-e62e9cf7464c button');\n",
              "      quickchartButtonEl.style.display =\n",
              "        google.colab.kernel.accessAllowed ? 'block' : 'none';\n",
              "    })();\n",
              "  </script>\n",
              "</div>\n",
              "    </div>\n",
              "  </div>\n"
            ]
          },
          "metadata": {},
          "execution_count": 8
        }
      ],
      "source": [
        "books"
      ],
      "metadata": {
        "ExecuteTime": {
          "end_time": "2023-10-08T23:23:39.907064200Z",
          "start_time": "2023-10-08T23:23:39.819298900Z"
        },
        "colab": {
          "base_uri": "https://localhost:8080/",
          "height": 545
        },
        "id": "4607f7091410e2ad",
        "outputId": "d286b11d-c409-448a-c17f-3054e835657d"
      },
      "id": "4607f7091410e2ad"
    },
    {
      "cell_type": "markdown",
      "source": [
        "#### Cek Deskripsi Statistik Data Users Menggunakan Fungsi Info()"
      ],
      "metadata": {
        "collapsed": false,
        "id": "2a4376eed3695a88"
      },
      "id": "2a4376eed3695a88"
    },
    {
      "cell_type": "code",
      "execution_count": null,
      "outputs": [
        {
          "output_type": "stream",
          "name": "stdout",
          "text": [
            "<class 'pandas.core.frame.DataFrame'>\n",
            "RangeIndex: 278858 entries, 0 to 278857\n",
            "Data columns (total 3 columns):\n",
            " #   Column    Non-Null Count   Dtype  \n",
            "---  ------    --------------   -----  \n",
            " 0   User-ID   278858 non-null  int64  \n",
            " 1   Location  278858 non-null  object \n",
            " 2   Age       168096 non-null  float64\n",
            "dtypes: float64(1), int64(1), object(1)\n",
            "memory usage: 6.4+ MB\n"
          ]
        }
      ],
      "source": [
        "users.info()"
      ],
      "metadata": {
        "ExecuteTime": {
          "end_time": "2023-10-08T23:23:39.909058800Z",
          "start_time": "2023-10-08T23:23:39.845231800Z"
        },
        "colab": {
          "base_uri": "https://localhost:8080/"
        },
        "id": "863e101e0f4cf836",
        "outputId": "9d32c876-8a92-4d72-f0ce-b18fdab4835c"
      },
      "id": "863e101e0f4cf836"
    },
    {
      "cell_type": "markdown",
      "source": [
        "#### Lihat Data Users"
      ],
      "metadata": {
        "collapsed": false,
        "id": "6b1290a873f40943"
      },
      "id": "6b1290a873f40943"
    },
    {
      "cell_type": "code",
      "execution_count": null,
      "outputs": [
        {
          "output_type": "execute_result",
          "data": {
            "text/plain": [
              "        User-ID                            Location   Age\n",
              "0             1                  nyc, new york, usa   NaN\n",
              "1             2           stockton, california, usa  18.0\n",
              "2             3     moscow, yukon territory, russia   NaN\n",
              "3             4           porto, v.n.gaia, portugal  17.0\n",
              "4             5  farnborough, hants, united kingdom   NaN\n",
              "...         ...                                 ...   ...\n",
              "278853   278854               portland, oregon, usa   NaN\n",
              "278854   278855  tacoma, washington, united kingdom  50.0\n",
              "278855   278856           brampton, ontario, canada   NaN\n",
              "278856   278857           knoxville, tennessee, usa   NaN\n",
              "278857   278858                dublin, n/a, ireland   NaN\n",
              "\n",
              "[278858 rows x 3 columns]"
            ],
            "text/html": [
              "\n",
              "  <div id=\"df-1f9f98e5-38c2-46c4-bfc7-2ed2280084ee\" class=\"colab-df-container\">\n",
              "    <div>\n",
              "<style scoped>\n",
              "    .dataframe tbody tr th:only-of-type {\n",
              "        vertical-align: middle;\n",
              "    }\n",
              "\n",
              "    .dataframe tbody tr th {\n",
              "        vertical-align: top;\n",
              "    }\n",
              "\n",
              "    .dataframe thead th {\n",
              "        text-align: right;\n",
              "    }\n",
              "</style>\n",
              "<table border=\"1\" class=\"dataframe\">\n",
              "  <thead>\n",
              "    <tr style=\"text-align: right;\">\n",
              "      <th></th>\n",
              "      <th>User-ID</th>\n",
              "      <th>Location</th>\n",
              "      <th>Age</th>\n",
              "    </tr>\n",
              "  </thead>\n",
              "  <tbody>\n",
              "    <tr>\n",
              "      <th>0</th>\n",
              "      <td>1</td>\n",
              "      <td>nyc, new york, usa</td>\n",
              "      <td>NaN</td>\n",
              "    </tr>\n",
              "    <tr>\n",
              "      <th>1</th>\n",
              "      <td>2</td>\n",
              "      <td>stockton, california, usa</td>\n",
              "      <td>18.0</td>\n",
              "    </tr>\n",
              "    <tr>\n",
              "      <th>2</th>\n",
              "      <td>3</td>\n",
              "      <td>moscow, yukon territory, russia</td>\n",
              "      <td>NaN</td>\n",
              "    </tr>\n",
              "    <tr>\n",
              "      <th>3</th>\n",
              "      <td>4</td>\n",
              "      <td>porto, v.n.gaia, portugal</td>\n",
              "      <td>17.0</td>\n",
              "    </tr>\n",
              "    <tr>\n",
              "      <th>4</th>\n",
              "      <td>5</td>\n",
              "      <td>farnborough, hants, united kingdom</td>\n",
              "      <td>NaN</td>\n",
              "    </tr>\n",
              "    <tr>\n",
              "      <th>...</th>\n",
              "      <td>...</td>\n",
              "      <td>...</td>\n",
              "      <td>...</td>\n",
              "    </tr>\n",
              "    <tr>\n",
              "      <th>278853</th>\n",
              "      <td>278854</td>\n",
              "      <td>portland, oregon, usa</td>\n",
              "      <td>NaN</td>\n",
              "    </tr>\n",
              "    <tr>\n",
              "      <th>278854</th>\n",
              "      <td>278855</td>\n",
              "      <td>tacoma, washington, united kingdom</td>\n",
              "      <td>50.0</td>\n",
              "    </tr>\n",
              "    <tr>\n",
              "      <th>278855</th>\n",
              "      <td>278856</td>\n",
              "      <td>brampton, ontario, canada</td>\n",
              "      <td>NaN</td>\n",
              "    </tr>\n",
              "    <tr>\n",
              "      <th>278856</th>\n",
              "      <td>278857</td>\n",
              "      <td>knoxville, tennessee, usa</td>\n",
              "      <td>NaN</td>\n",
              "    </tr>\n",
              "    <tr>\n",
              "      <th>278857</th>\n",
              "      <td>278858</td>\n",
              "      <td>dublin, n/a, ireland</td>\n",
              "      <td>NaN</td>\n",
              "    </tr>\n",
              "  </tbody>\n",
              "</table>\n",
              "<p>278858 rows × 3 columns</p>\n",
              "</div>\n",
              "    <div class=\"colab-df-buttons\">\n",
              "\n",
              "  <div class=\"colab-df-container\">\n",
              "    <button class=\"colab-df-convert\" onclick=\"convertToInteractive('df-1f9f98e5-38c2-46c4-bfc7-2ed2280084ee')\"\n",
              "            title=\"Convert this dataframe to an interactive table.\"\n",
              "            style=\"display:none;\">\n",
              "\n",
              "  <svg xmlns=\"http://www.w3.org/2000/svg\" height=\"24px\" viewBox=\"0 -960 960 960\">\n",
              "    <path d=\"M120-120v-720h720v720H120Zm60-500h600v-160H180v160Zm220 220h160v-160H400v160Zm0 220h160v-160H400v160ZM180-400h160v-160H180v160Zm440 0h160v-160H620v160ZM180-180h160v-160H180v160Zm440 0h160v-160H620v160Z\"/>\n",
              "  </svg>\n",
              "    </button>\n",
              "\n",
              "  <style>\n",
              "    .colab-df-container {\n",
              "      display:flex;\n",
              "      gap: 12px;\n",
              "    }\n",
              "\n",
              "    .colab-df-convert {\n",
              "      background-color: #E8F0FE;\n",
              "      border: none;\n",
              "      border-radius: 50%;\n",
              "      cursor: pointer;\n",
              "      display: none;\n",
              "      fill: #1967D2;\n",
              "      height: 32px;\n",
              "      padding: 0 0 0 0;\n",
              "      width: 32px;\n",
              "    }\n",
              "\n",
              "    .colab-df-convert:hover {\n",
              "      background-color: #E2EBFA;\n",
              "      box-shadow: 0px 1px 2px rgba(60, 64, 67, 0.3), 0px 1px 3px 1px rgba(60, 64, 67, 0.15);\n",
              "      fill: #174EA6;\n",
              "    }\n",
              "\n",
              "    .colab-df-buttons div {\n",
              "      margin-bottom: 4px;\n",
              "    }\n",
              "\n",
              "    [theme=dark] .colab-df-convert {\n",
              "      background-color: #3B4455;\n",
              "      fill: #D2E3FC;\n",
              "    }\n",
              "\n",
              "    [theme=dark] .colab-df-convert:hover {\n",
              "      background-color: #434B5C;\n",
              "      box-shadow: 0px 1px 3px 1px rgba(0, 0, 0, 0.15);\n",
              "      filter: drop-shadow(0px 1px 2px rgba(0, 0, 0, 0.3));\n",
              "      fill: #FFFFFF;\n",
              "    }\n",
              "  </style>\n",
              "\n",
              "    <script>\n",
              "      const buttonEl =\n",
              "        document.querySelector('#df-1f9f98e5-38c2-46c4-bfc7-2ed2280084ee button.colab-df-convert');\n",
              "      buttonEl.style.display =\n",
              "        google.colab.kernel.accessAllowed ? 'block' : 'none';\n",
              "\n",
              "      async function convertToInteractive(key) {\n",
              "        const element = document.querySelector('#df-1f9f98e5-38c2-46c4-bfc7-2ed2280084ee');\n",
              "        const dataTable =\n",
              "          await google.colab.kernel.invokeFunction('convertToInteractive',\n",
              "                                                    [key], {});\n",
              "        if (!dataTable) return;\n",
              "\n",
              "        const docLinkHtml = 'Like what you see? Visit the ' +\n",
              "          '<a target=\"_blank\" href=https://colab.research.google.com/notebooks/data_table.ipynb>data table notebook</a>'\n",
              "          + ' to learn more about interactive tables.';\n",
              "        element.innerHTML = '';\n",
              "        dataTable['output_type'] = 'display_data';\n",
              "        await google.colab.output.renderOutput(dataTable, element);\n",
              "        const docLink = document.createElement('div');\n",
              "        docLink.innerHTML = docLinkHtml;\n",
              "        element.appendChild(docLink);\n",
              "      }\n",
              "    </script>\n",
              "  </div>\n",
              "\n",
              "\n",
              "<div id=\"df-35ab3fda-6cc5-4d01-b22f-b04b69ac4b7f\">\n",
              "  <button class=\"colab-df-quickchart\" onclick=\"quickchart('df-35ab3fda-6cc5-4d01-b22f-b04b69ac4b7f')\"\n",
              "            title=\"Suggest charts.\"\n",
              "            style=\"display:none;\">\n",
              "\n",
              "<svg xmlns=\"http://www.w3.org/2000/svg\" height=\"24px\"viewBox=\"0 0 24 24\"\n",
              "     width=\"24px\">\n",
              "    <g>\n",
              "        <path d=\"M19 3H5c-1.1 0-2 .9-2 2v14c0 1.1.9 2 2 2h14c1.1 0 2-.9 2-2V5c0-1.1-.9-2-2-2zM9 17H7v-7h2v7zm4 0h-2V7h2v10zm4 0h-2v-4h2v4z\"/>\n",
              "    </g>\n",
              "</svg>\n",
              "  </button>\n",
              "\n",
              "<style>\n",
              "  .colab-df-quickchart {\n",
              "      --bg-color: #E8F0FE;\n",
              "      --fill-color: #1967D2;\n",
              "      --hover-bg-color: #E2EBFA;\n",
              "      --hover-fill-color: #174EA6;\n",
              "      --disabled-fill-color: #AAA;\n",
              "      --disabled-bg-color: #DDD;\n",
              "  }\n",
              "\n",
              "  [theme=dark] .colab-df-quickchart {\n",
              "      --bg-color: #3B4455;\n",
              "      --fill-color: #D2E3FC;\n",
              "      --hover-bg-color: #434B5C;\n",
              "      --hover-fill-color: #FFFFFF;\n",
              "      --disabled-bg-color: #3B4455;\n",
              "      --disabled-fill-color: #666;\n",
              "  }\n",
              "\n",
              "  .colab-df-quickchart {\n",
              "    background-color: var(--bg-color);\n",
              "    border: none;\n",
              "    border-radius: 50%;\n",
              "    cursor: pointer;\n",
              "    display: none;\n",
              "    fill: var(--fill-color);\n",
              "    height: 32px;\n",
              "    padding: 0;\n",
              "    width: 32px;\n",
              "  }\n",
              "\n",
              "  .colab-df-quickchart:hover {\n",
              "    background-color: var(--hover-bg-color);\n",
              "    box-shadow: 0 1px 2px rgba(60, 64, 67, 0.3), 0 1px 3px 1px rgba(60, 64, 67, 0.15);\n",
              "    fill: var(--button-hover-fill-color);\n",
              "  }\n",
              "\n",
              "  .colab-df-quickchart-complete:disabled,\n",
              "  .colab-df-quickchart-complete:disabled:hover {\n",
              "    background-color: var(--disabled-bg-color);\n",
              "    fill: var(--disabled-fill-color);\n",
              "    box-shadow: none;\n",
              "  }\n",
              "\n",
              "  .colab-df-spinner {\n",
              "    border: 2px solid var(--fill-color);\n",
              "    border-color: transparent;\n",
              "    border-bottom-color: var(--fill-color);\n",
              "    animation:\n",
              "      spin 1s steps(1) infinite;\n",
              "  }\n",
              "\n",
              "  @keyframes spin {\n",
              "    0% {\n",
              "      border-color: transparent;\n",
              "      border-bottom-color: var(--fill-color);\n",
              "      border-left-color: var(--fill-color);\n",
              "    }\n",
              "    20% {\n",
              "      border-color: transparent;\n",
              "      border-left-color: var(--fill-color);\n",
              "      border-top-color: var(--fill-color);\n",
              "    }\n",
              "    30% {\n",
              "      border-color: transparent;\n",
              "      border-left-color: var(--fill-color);\n",
              "      border-top-color: var(--fill-color);\n",
              "      border-right-color: var(--fill-color);\n",
              "    }\n",
              "    40% {\n",
              "      border-color: transparent;\n",
              "      border-right-color: var(--fill-color);\n",
              "      border-top-color: var(--fill-color);\n",
              "    }\n",
              "    60% {\n",
              "      border-color: transparent;\n",
              "      border-right-color: var(--fill-color);\n",
              "    }\n",
              "    80% {\n",
              "      border-color: transparent;\n",
              "      border-right-color: var(--fill-color);\n",
              "      border-bottom-color: var(--fill-color);\n",
              "    }\n",
              "    90% {\n",
              "      border-color: transparent;\n",
              "      border-bottom-color: var(--fill-color);\n",
              "    }\n",
              "  }\n",
              "</style>\n",
              "\n",
              "  <script>\n",
              "    async function quickchart(key) {\n",
              "      const quickchartButtonEl =\n",
              "        document.querySelector('#' + key + ' button');\n",
              "      quickchartButtonEl.disabled = true;  // To prevent multiple clicks.\n",
              "      quickchartButtonEl.classList.add('colab-df-spinner');\n",
              "      try {\n",
              "        const charts = await google.colab.kernel.invokeFunction(\n",
              "            'suggestCharts', [key], {});\n",
              "      } catch (error) {\n",
              "        console.error('Error during call to suggestCharts:', error);\n",
              "      }\n",
              "      quickchartButtonEl.classList.remove('colab-df-spinner');\n",
              "      quickchartButtonEl.classList.add('colab-df-quickchart-complete');\n",
              "    }\n",
              "    (() => {\n",
              "      let quickchartButtonEl =\n",
              "        document.querySelector('#df-35ab3fda-6cc5-4d01-b22f-b04b69ac4b7f button');\n",
              "      quickchartButtonEl.style.display =\n",
              "        google.colab.kernel.accessAllowed ? 'block' : 'none';\n",
              "    })();\n",
              "  </script>\n",
              "</div>\n",
              "    </div>\n",
              "  </div>\n"
            ]
          },
          "metadata": {},
          "execution_count": 10
        }
      ],
      "source": [
        "users"
      ],
      "metadata": {
        "ExecuteTime": {
          "end_time": "2023-10-08T23:23:39.969899600Z",
          "start_time": "2023-10-08T23:23:39.907064200Z"
        },
        "colab": {
          "base_uri": "https://localhost:8080/",
          "height": 424
        },
        "id": "1ecef47dbf0a98f0",
        "outputId": "7a8f9387-c54f-4ad4-d228-48cb655a1b48"
      },
      "id": "1ecef47dbf0a98f0"
    },
    {
      "cell_type": "markdown",
      "source": [
        "#### Cek Deskripsi Statistik Data Ratings Menggunakan Fungsi Info()"
      ],
      "metadata": {
        "collapsed": false,
        "id": "7c79b9ea8c7f67d5"
      },
      "id": "7c79b9ea8c7f67d5"
    },
    {
      "cell_type": "code",
      "execution_count": null,
      "outputs": [
        {
          "output_type": "stream",
          "name": "stdout",
          "text": [
            "<class 'pandas.core.frame.DataFrame'>\n",
            "RangeIndex: 1149780 entries, 0 to 1149779\n",
            "Data columns (total 3 columns):\n",
            " #   Column       Non-Null Count    Dtype \n",
            "---  ------       --------------    ----- \n",
            " 0   User-ID      1149780 non-null  int64 \n",
            " 1   ISBN         1149780 non-null  object\n",
            " 2   Book-Rating  1149780 non-null  int64 \n",
            "dtypes: int64(2), object(1)\n",
            "memory usage: 26.3+ MB\n"
          ]
        }
      ],
      "source": [
        "ratings.info()"
      ],
      "metadata": {
        "ExecuteTime": {
          "end_time": "2023-10-08T23:23:40.104536900Z",
          "start_time": "2023-10-08T23:23:39.936985600Z"
        },
        "colab": {
          "base_uri": "https://localhost:8080/"
        },
        "id": "2f99c3b52ab489cf",
        "outputId": "a8406e76-2a9c-48b1-931c-2eb36655879d"
      },
      "id": "2f99c3b52ab489cf"
    },
    {
      "cell_type": "markdown",
      "source": [
        "#### Lihat Data Ratings"
      ],
      "metadata": {
        "collapsed": false,
        "id": "6a20dae77785a68d"
      },
      "id": "6a20dae77785a68d"
    },
    {
      "cell_type": "code",
      "execution_count": null,
      "outputs": [
        {
          "output_type": "execute_result",
          "data": {
            "text/plain": [
              "         User-ID         ISBN  Book-Rating\n",
              "0         276725   034545104X            0\n",
              "1         276726   0155061224            5\n",
              "2         276727   0446520802            0\n",
              "3         276729   052165615X            3\n",
              "4         276729   0521795028            6\n",
              "...          ...          ...          ...\n",
              "1149775   276704   1563526298            9\n",
              "1149776   276706   0679447156            0\n",
              "1149777   276709   0515107662           10\n",
              "1149778   276721   0590442449           10\n",
              "1149779   276723  05162443314            8\n",
              "\n",
              "[1149780 rows x 3 columns]"
            ],
            "text/html": [
              "\n",
              "  <div id=\"df-90e0761f-c35c-4c68-81ae-55d257b4a720\" class=\"colab-df-container\">\n",
              "    <div>\n",
              "<style scoped>\n",
              "    .dataframe tbody tr th:only-of-type {\n",
              "        vertical-align: middle;\n",
              "    }\n",
              "\n",
              "    .dataframe tbody tr th {\n",
              "        vertical-align: top;\n",
              "    }\n",
              "\n",
              "    .dataframe thead th {\n",
              "        text-align: right;\n",
              "    }\n",
              "</style>\n",
              "<table border=\"1\" class=\"dataframe\">\n",
              "  <thead>\n",
              "    <tr style=\"text-align: right;\">\n",
              "      <th></th>\n",
              "      <th>User-ID</th>\n",
              "      <th>ISBN</th>\n",
              "      <th>Book-Rating</th>\n",
              "    </tr>\n",
              "  </thead>\n",
              "  <tbody>\n",
              "    <tr>\n",
              "      <th>0</th>\n",
              "      <td>276725</td>\n",
              "      <td>034545104X</td>\n",
              "      <td>0</td>\n",
              "    </tr>\n",
              "    <tr>\n",
              "      <th>1</th>\n",
              "      <td>276726</td>\n",
              "      <td>0155061224</td>\n",
              "      <td>5</td>\n",
              "    </tr>\n",
              "    <tr>\n",
              "      <th>2</th>\n",
              "      <td>276727</td>\n",
              "      <td>0446520802</td>\n",
              "      <td>0</td>\n",
              "    </tr>\n",
              "    <tr>\n",
              "      <th>3</th>\n",
              "      <td>276729</td>\n",
              "      <td>052165615X</td>\n",
              "      <td>3</td>\n",
              "    </tr>\n",
              "    <tr>\n",
              "      <th>4</th>\n",
              "      <td>276729</td>\n",
              "      <td>0521795028</td>\n",
              "      <td>6</td>\n",
              "    </tr>\n",
              "    <tr>\n",
              "      <th>...</th>\n",
              "      <td>...</td>\n",
              "      <td>...</td>\n",
              "      <td>...</td>\n",
              "    </tr>\n",
              "    <tr>\n",
              "      <th>1149775</th>\n",
              "      <td>276704</td>\n",
              "      <td>1563526298</td>\n",
              "      <td>9</td>\n",
              "    </tr>\n",
              "    <tr>\n",
              "      <th>1149776</th>\n",
              "      <td>276706</td>\n",
              "      <td>0679447156</td>\n",
              "      <td>0</td>\n",
              "    </tr>\n",
              "    <tr>\n",
              "      <th>1149777</th>\n",
              "      <td>276709</td>\n",
              "      <td>0515107662</td>\n",
              "      <td>10</td>\n",
              "    </tr>\n",
              "    <tr>\n",
              "      <th>1149778</th>\n",
              "      <td>276721</td>\n",
              "      <td>0590442449</td>\n",
              "      <td>10</td>\n",
              "    </tr>\n",
              "    <tr>\n",
              "      <th>1149779</th>\n",
              "      <td>276723</td>\n",
              "      <td>05162443314</td>\n",
              "      <td>8</td>\n",
              "    </tr>\n",
              "  </tbody>\n",
              "</table>\n",
              "<p>1149780 rows × 3 columns</p>\n",
              "</div>\n",
              "    <div class=\"colab-df-buttons\">\n",
              "\n",
              "  <div class=\"colab-df-container\">\n",
              "    <button class=\"colab-df-convert\" onclick=\"convertToInteractive('df-90e0761f-c35c-4c68-81ae-55d257b4a720')\"\n",
              "            title=\"Convert this dataframe to an interactive table.\"\n",
              "            style=\"display:none;\">\n",
              "\n",
              "  <svg xmlns=\"http://www.w3.org/2000/svg\" height=\"24px\" viewBox=\"0 -960 960 960\">\n",
              "    <path d=\"M120-120v-720h720v720H120Zm60-500h600v-160H180v160Zm220 220h160v-160H400v160Zm0 220h160v-160H400v160ZM180-400h160v-160H180v160Zm440 0h160v-160H620v160ZM180-180h160v-160H180v160Zm440 0h160v-160H620v160Z\"/>\n",
              "  </svg>\n",
              "    </button>\n",
              "\n",
              "  <style>\n",
              "    .colab-df-container {\n",
              "      display:flex;\n",
              "      gap: 12px;\n",
              "    }\n",
              "\n",
              "    .colab-df-convert {\n",
              "      background-color: #E8F0FE;\n",
              "      border: none;\n",
              "      border-radius: 50%;\n",
              "      cursor: pointer;\n",
              "      display: none;\n",
              "      fill: #1967D2;\n",
              "      height: 32px;\n",
              "      padding: 0 0 0 0;\n",
              "      width: 32px;\n",
              "    }\n",
              "\n",
              "    .colab-df-convert:hover {\n",
              "      background-color: #E2EBFA;\n",
              "      box-shadow: 0px 1px 2px rgba(60, 64, 67, 0.3), 0px 1px 3px 1px rgba(60, 64, 67, 0.15);\n",
              "      fill: #174EA6;\n",
              "    }\n",
              "\n",
              "    .colab-df-buttons div {\n",
              "      margin-bottom: 4px;\n",
              "    }\n",
              "\n",
              "    [theme=dark] .colab-df-convert {\n",
              "      background-color: #3B4455;\n",
              "      fill: #D2E3FC;\n",
              "    }\n",
              "\n",
              "    [theme=dark] .colab-df-convert:hover {\n",
              "      background-color: #434B5C;\n",
              "      box-shadow: 0px 1px 3px 1px rgba(0, 0, 0, 0.15);\n",
              "      filter: drop-shadow(0px 1px 2px rgba(0, 0, 0, 0.3));\n",
              "      fill: #FFFFFF;\n",
              "    }\n",
              "  </style>\n",
              "\n",
              "    <script>\n",
              "      const buttonEl =\n",
              "        document.querySelector('#df-90e0761f-c35c-4c68-81ae-55d257b4a720 button.colab-df-convert');\n",
              "      buttonEl.style.display =\n",
              "        google.colab.kernel.accessAllowed ? 'block' : 'none';\n",
              "\n",
              "      async function convertToInteractive(key) {\n",
              "        const element = document.querySelector('#df-90e0761f-c35c-4c68-81ae-55d257b4a720');\n",
              "        const dataTable =\n",
              "          await google.colab.kernel.invokeFunction('convertToInteractive',\n",
              "                                                    [key], {});\n",
              "        if (!dataTable) return;\n",
              "\n",
              "        const docLinkHtml = 'Like what you see? Visit the ' +\n",
              "          '<a target=\"_blank\" href=https://colab.research.google.com/notebooks/data_table.ipynb>data table notebook</a>'\n",
              "          + ' to learn more about interactive tables.';\n",
              "        element.innerHTML = '';\n",
              "        dataTable['output_type'] = 'display_data';\n",
              "        await google.colab.output.renderOutput(dataTable, element);\n",
              "        const docLink = document.createElement('div');\n",
              "        docLink.innerHTML = docLinkHtml;\n",
              "        element.appendChild(docLink);\n",
              "      }\n",
              "    </script>\n",
              "  </div>\n",
              "\n",
              "\n",
              "<div id=\"df-9486d509-e5fd-44e8-be13-a8eb6351db4a\">\n",
              "  <button class=\"colab-df-quickchart\" onclick=\"quickchart('df-9486d509-e5fd-44e8-be13-a8eb6351db4a')\"\n",
              "            title=\"Suggest charts.\"\n",
              "            style=\"display:none;\">\n",
              "\n",
              "<svg xmlns=\"http://www.w3.org/2000/svg\" height=\"24px\"viewBox=\"0 0 24 24\"\n",
              "     width=\"24px\">\n",
              "    <g>\n",
              "        <path d=\"M19 3H5c-1.1 0-2 .9-2 2v14c0 1.1.9 2 2 2h14c1.1 0 2-.9 2-2V5c0-1.1-.9-2-2-2zM9 17H7v-7h2v7zm4 0h-2V7h2v10zm4 0h-2v-4h2v4z\"/>\n",
              "    </g>\n",
              "</svg>\n",
              "  </button>\n",
              "\n",
              "<style>\n",
              "  .colab-df-quickchart {\n",
              "      --bg-color: #E8F0FE;\n",
              "      --fill-color: #1967D2;\n",
              "      --hover-bg-color: #E2EBFA;\n",
              "      --hover-fill-color: #174EA6;\n",
              "      --disabled-fill-color: #AAA;\n",
              "      --disabled-bg-color: #DDD;\n",
              "  }\n",
              "\n",
              "  [theme=dark] .colab-df-quickchart {\n",
              "      --bg-color: #3B4455;\n",
              "      --fill-color: #D2E3FC;\n",
              "      --hover-bg-color: #434B5C;\n",
              "      --hover-fill-color: #FFFFFF;\n",
              "      --disabled-bg-color: #3B4455;\n",
              "      --disabled-fill-color: #666;\n",
              "  }\n",
              "\n",
              "  .colab-df-quickchart {\n",
              "    background-color: var(--bg-color);\n",
              "    border: none;\n",
              "    border-radius: 50%;\n",
              "    cursor: pointer;\n",
              "    display: none;\n",
              "    fill: var(--fill-color);\n",
              "    height: 32px;\n",
              "    padding: 0;\n",
              "    width: 32px;\n",
              "  }\n",
              "\n",
              "  .colab-df-quickchart:hover {\n",
              "    background-color: var(--hover-bg-color);\n",
              "    box-shadow: 0 1px 2px rgba(60, 64, 67, 0.3), 0 1px 3px 1px rgba(60, 64, 67, 0.15);\n",
              "    fill: var(--button-hover-fill-color);\n",
              "  }\n",
              "\n",
              "  .colab-df-quickchart-complete:disabled,\n",
              "  .colab-df-quickchart-complete:disabled:hover {\n",
              "    background-color: var(--disabled-bg-color);\n",
              "    fill: var(--disabled-fill-color);\n",
              "    box-shadow: none;\n",
              "  }\n",
              "\n",
              "  .colab-df-spinner {\n",
              "    border: 2px solid var(--fill-color);\n",
              "    border-color: transparent;\n",
              "    border-bottom-color: var(--fill-color);\n",
              "    animation:\n",
              "      spin 1s steps(1) infinite;\n",
              "  }\n",
              "\n",
              "  @keyframes spin {\n",
              "    0% {\n",
              "      border-color: transparent;\n",
              "      border-bottom-color: var(--fill-color);\n",
              "      border-left-color: var(--fill-color);\n",
              "    }\n",
              "    20% {\n",
              "      border-color: transparent;\n",
              "      border-left-color: var(--fill-color);\n",
              "      border-top-color: var(--fill-color);\n",
              "    }\n",
              "    30% {\n",
              "      border-color: transparent;\n",
              "      border-left-color: var(--fill-color);\n",
              "      border-top-color: var(--fill-color);\n",
              "      border-right-color: var(--fill-color);\n",
              "    }\n",
              "    40% {\n",
              "      border-color: transparent;\n",
              "      border-right-color: var(--fill-color);\n",
              "      border-top-color: var(--fill-color);\n",
              "    }\n",
              "    60% {\n",
              "      border-color: transparent;\n",
              "      border-right-color: var(--fill-color);\n",
              "    }\n",
              "    80% {\n",
              "      border-color: transparent;\n",
              "      border-right-color: var(--fill-color);\n",
              "      border-bottom-color: var(--fill-color);\n",
              "    }\n",
              "    90% {\n",
              "      border-color: transparent;\n",
              "      border-bottom-color: var(--fill-color);\n",
              "    }\n",
              "  }\n",
              "</style>\n",
              "\n",
              "  <script>\n",
              "    async function quickchart(key) {\n",
              "      const quickchartButtonEl =\n",
              "        document.querySelector('#' + key + ' button');\n",
              "      quickchartButtonEl.disabled = true;  // To prevent multiple clicks.\n",
              "      quickchartButtonEl.classList.add('colab-df-spinner');\n",
              "      try {\n",
              "        const charts = await google.colab.kernel.invokeFunction(\n",
              "            'suggestCharts', [key], {});\n",
              "      } catch (error) {\n",
              "        console.error('Error during call to suggestCharts:', error);\n",
              "      }\n",
              "      quickchartButtonEl.classList.remove('colab-df-spinner');\n",
              "      quickchartButtonEl.classList.add('colab-df-quickchart-complete');\n",
              "    }\n",
              "    (() => {\n",
              "      let quickchartButtonEl =\n",
              "        document.querySelector('#df-9486d509-e5fd-44e8-be13-a8eb6351db4a button');\n",
              "      quickchartButtonEl.style.display =\n",
              "        google.colab.kernel.accessAllowed ? 'block' : 'none';\n",
              "    })();\n",
              "  </script>\n",
              "</div>\n",
              "    </div>\n",
              "  </div>\n"
            ]
          },
          "metadata": {},
          "execution_count": 12
        }
      ],
      "source": [
        "ratings"
      ],
      "metadata": {
        "ExecuteTime": {
          "end_time": "2023-10-08T23:23:40.105533300Z",
          "start_time": "2023-10-08T23:23:40.022754600Z"
        },
        "colab": {
          "base_uri": "https://localhost:8080/",
          "height": 424
        },
        "id": "f597a1b94bc400a9",
        "outputId": "e8a0e640-749f-4c01-9288-4038cc85a312"
      },
      "id": "f597a1b94bc400a9"
    },
    {
      "cell_type": "markdown",
      "source": [
        "#### Cek Nilai Maksimum Pada Kolom Book-Rating"
      ],
      "metadata": {
        "collapsed": false,
        "id": "55a20e239a967455"
      },
      "id": "55a20e239a967455"
    },
    {
      "cell_type": "code",
      "execution_count": null,
      "outputs": [
        {
          "output_type": "execute_result",
          "data": {
            "text/plain": [
              "10"
            ]
          },
          "metadata": {},
          "execution_count": 13
        }
      ],
      "source": [
        "ratings['Book-Rating'].max()"
      ],
      "metadata": {
        "ExecuteTime": {
          "end_time": "2023-10-08T23:23:40.106530500Z",
          "start_time": "2023-10-08T23:23:40.041704100Z"
        },
        "colab": {
          "base_uri": "https://localhost:8080/"
        },
        "id": "b09ec7c657ac2245",
        "outputId": "61ffc365-28f3-410e-9314-57ba9931b619"
      },
      "id": "b09ec7c657ac2245"
    },
    {
      "cell_type": "markdown",
      "source": [
        "#### Cek Nilai Minimum Pada Kolom Book-Rating"
      ],
      "metadata": {
        "collapsed": false,
        "id": "d3ee96fe8b4b801f"
      },
      "id": "d3ee96fe8b4b801f"
    },
    {
      "cell_type": "code",
      "execution_count": null,
      "outputs": [
        {
          "output_type": "execute_result",
          "data": {
            "text/plain": [
              "0"
            ]
          },
          "metadata": {},
          "execution_count": 14
        }
      ],
      "source": [
        "ratings['Book-Rating'].min()"
      ],
      "metadata": {
        "ExecuteTime": {
          "end_time": "2023-10-08T23:23:40.107529400Z",
          "start_time": "2023-10-08T23:23:40.058659700Z"
        },
        "colab": {
          "base_uri": "https://localhost:8080/"
        },
        "id": "7c11052aa3da1519",
        "outputId": "d0421be4-e4bf-46a0-d107-68432f92f64f"
      },
      "id": "7c11052aa3da1519"
    },
    {
      "cell_type": "markdown",
      "source": [
        "# Data Preparation"
      ],
      "metadata": {
        "collapsed": false,
        "id": "6d0d1d63b1b4869b"
      },
      "id": "6d0d1d63b1b4869b"
    },
    {
      "cell_type": "markdown",
      "source": [
        "#### Copy Dataframe Ratings ke Variabel df"
      ],
      "metadata": {
        "collapsed": false,
        "id": "b9fa56fcddb6e97d"
      },
      "id": "b9fa56fcddb6e97d"
    },
    {
      "cell_type": "code",
      "execution_count": null,
      "outputs": [],
      "source": [
        "df = ratings"
      ],
      "metadata": {
        "ExecuteTime": {
          "end_time": "2023-10-08T23:23:40.107529400Z",
          "start_time": "2023-10-08T23:23:40.074617600Z"
        },
        "id": "9fefca535cbfe84a"
      },
      "id": "9fefca535cbfe84a"
    },
    {
      "cell_type": "markdown",
      "source": [
        "#### Ubah Nilai Pada Book-Rating Menjadi Float Pada Dataframe df"
      ],
      "metadata": {
        "collapsed": false,
        "id": "d7cb9ef3dea085eb"
      },
      "id": "d7cb9ef3dea085eb"
    },
    {
      "cell_type": "code",
      "execution_count": null,
      "outputs": [],
      "source": [
        "df['Book-Rating'] = df['Book-Rating'].values.astype(float)"
      ],
      "metadata": {
        "ExecuteTime": {
          "end_time": "2023-10-08T23:23:40.147421Z",
          "start_time": "2023-10-08T23:23:40.088579600Z"
        },
        "id": "5107d30c67bf24be"
      },
      "id": "5107d30c67bf24be"
    },
    {
      "cell_type": "markdown",
      "source": [
        "#### Ubah User-ID di Dataframe df Menjadi List Tanpa Nilai Yang Sama"
      ],
      "metadata": {
        "collapsed": false,
        "id": "ecfc4332dadd3873"
      },
      "id": "ecfc4332dadd3873"
    },
    {
      "cell_type": "code",
      "execution_count": null,
      "outputs": [],
      "source": [
        "users_id = df['User-ID'].unique().tolist()"
      ],
      "metadata": {
        "ExecuteTime": {
          "end_time": "2023-10-08T23:23:40.378801700Z",
          "start_time": "2023-10-08T23:23:40.105533300Z"
        },
        "id": "9244b45f7c889ba0"
      },
      "id": "9244b45f7c889ba0"
    },
    {
      "cell_type": "markdown",
      "source": [
        "#### Lakukan Encoding Pada User-ID"
      ],
      "metadata": {
        "collapsed": false,
        "id": "b13dc5e6abcfc7b"
      },
      "id": "b13dc5e6abcfc7b"
    },
    {
      "cell_type": "code",
      "execution_count": null,
      "outputs": [],
      "source": [
        "users_to_encoded = {x: i for i, x in enumerate(users_id)}"
      ],
      "metadata": {
        "ExecuteTime": {
          "end_time": "2023-10-08T23:23:40.397752500Z",
          "start_time": "2023-10-08T23:23:40.165373500Z"
        },
        "id": "deef019ce3b54949"
      },
      "id": "deef019ce3b54949"
    },
    {
      "cell_type": "markdown",
      "source": [
        "#### Encoding Angka ke User-ID"
      ],
      "metadata": {
        "collapsed": false,
        "id": "6c9801a79500a86a"
      },
      "id": "6c9801a79500a86a"
    },
    {
      "cell_type": "code",
      "execution_count": null,
      "outputs": [],
      "source": [
        "encoded_to_users = {i: x for i, x in enumerate(users_id)}"
      ],
      "metadata": {
        "ExecuteTime": {
          "end_time": "2023-10-08T23:23:40.447618200Z",
          "start_time": "2023-10-08T23:23:40.248152900Z"
        },
        "id": "f5d5d03480fe792d"
      },
      "id": "f5d5d03480fe792d"
    },
    {
      "cell_type": "markdown",
      "source": [
        "#### Ubah ISBN Pada Dataframe df Menjadi List Tanpa Nilai Yang Sama"
      ],
      "metadata": {
        "collapsed": false,
        "id": "cad50a8ad112599d"
      },
      "id": "cad50a8ad112599d"
    },
    {
      "cell_type": "code",
      "execution_count": null,
      "outputs": [],
      "source": [
        "isbn = df['ISBN'].unique().tolist()"
      ],
      "metadata": {
        "ExecuteTime": {
          "end_time": "2023-10-08T23:23:41.724792400Z",
          "start_time": "2023-10-08T23:23:40.335921300Z"
        },
        "id": "bb60335e9b27cf10"
      },
      "id": "bb60335e9b27cf10"
    },
    {
      "cell_type": "markdown",
      "source": [
        "#### Lakukan Encoding Pada ISBN"
      ],
      "metadata": {
        "collapsed": false,
        "id": "c1d2cdfc7596928e"
      },
      "id": "c1d2cdfc7596928e"
    },
    {
      "cell_type": "code",
      "execution_count": null,
      "outputs": [],
      "source": [
        "isbn_to_encoded = {x: i for i, x in enumerate(isbn)}"
      ],
      "metadata": {
        "ExecuteTime": {
          "end_time": "2023-10-08T23:23:41.725790500Z",
          "start_time": "2023-10-08T23:23:40.827392300Z"
        },
        "id": "c53d0a8727b29e4e"
      },
      "id": "c53d0a8727b29e4e"
    },
    {
      "cell_type": "markdown",
      "source": [
        "#### Encoding Angka ke ISBN"
      ],
      "metadata": {
        "collapsed": false,
        "id": "9d13d8952ee42a90"
      },
      "id": "9d13d8952ee42a90"
    },
    {
      "cell_type": "code",
      "execution_count": null,
      "outputs": [],
      "source": [
        "encoded_to_isbn = {i: x for i, x in enumerate(isbn)}"
      ],
      "metadata": {
        "ExecuteTime": {
          "end_time": "2023-10-08T23:23:41.726787400Z",
          "start_time": "2023-10-08T23:23:41.246341100Z"
        },
        "id": "b7bf3628d7296057"
      },
      "id": "b7bf3628d7296057"
    },
    {
      "cell_type": "markdown",
      "source": [
        "#### Mapping User-ID dan ISBN ke Dataframe df"
      ],
      "metadata": {
        "collapsed": false,
        "id": "3bbac00d3f9831c3"
      },
      "id": "3bbac00d3f9831c3"
    },
    {
      "cell_type": "code",
      "execution_count": null,
      "outputs": [],
      "source": [
        "df['user'] = df['User-ID'].map(users_to_encoded)\n",
        "df['book'] = df['ISBN'].map(isbn_to_encoded)"
      ],
      "metadata": {
        "ExecuteTime": {
          "end_time": "2023-10-08T23:23:42.335157500Z",
          "start_time": "2023-10-08T23:23:41.585600500Z"
        },
        "id": "ec8db762de332a1a"
      },
      "id": "ec8db762de332a1a"
    },
    {
      "cell_type": "markdown",
      "source": [
        "#### Membagi Dataframe df Menjadi Data Train dan Data Test Untuk Proses Training dan Validasi\n"
      ],
      "metadata": {
        "collapsed": false,
        "id": "74d0b6f99786fa48"
      },
      "id": "74d0b6f99786fa48"
    },
    {
      "cell_type": "code",
      "execution_count": null,
      "outputs": [
        {
          "output_type": "execute_result",
          "data": {
            "text/plain": [
              "         User-ID        ISBN  Book-Rating   user    book\n",
              "105994     24194  0743456866          0.0   9766   11772\n",
              "1068471   255121  0835604500          0.0  97264  326951\n",
              "673766    163875  0671721097          0.0  62629   25425\n",
              "931491    225996  0738702552          0.0  85989   86544\n",
              "487894    116122  0553270443          0.0  44806   56845\n",
              "...          ...         ...          ...    ...     ...\n",
              "10394        311  0670815373          0.0    959    9639\n",
              "1049785   251013  0061091561          0.0  95617   21972\n",
              "178094     38654  0671020307          0.0  15515   37594\n",
              "510579    123981  0671866885          0.0  47761  154825\n",
              "928689    225763  1563245590          0.0  85907  302062\n",
              "\n",
              "[1149780 rows x 5 columns]"
            ],
            "text/html": [
              "\n",
              "  <div id=\"df-0365a715-48dc-4103-a383-c2fb96c99f1d\" class=\"colab-df-container\">\n",
              "    <div>\n",
              "<style scoped>\n",
              "    .dataframe tbody tr th:only-of-type {\n",
              "        vertical-align: middle;\n",
              "    }\n",
              "\n",
              "    .dataframe tbody tr th {\n",
              "        vertical-align: top;\n",
              "    }\n",
              "\n",
              "    .dataframe thead th {\n",
              "        text-align: right;\n",
              "    }\n",
              "</style>\n",
              "<table border=\"1\" class=\"dataframe\">\n",
              "  <thead>\n",
              "    <tr style=\"text-align: right;\">\n",
              "      <th></th>\n",
              "      <th>User-ID</th>\n",
              "      <th>ISBN</th>\n",
              "      <th>Book-Rating</th>\n",
              "      <th>user</th>\n",
              "      <th>book</th>\n",
              "    </tr>\n",
              "  </thead>\n",
              "  <tbody>\n",
              "    <tr>\n",
              "      <th>105994</th>\n",
              "      <td>24194</td>\n",
              "      <td>0743456866</td>\n",
              "      <td>0.0</td>\n",
              "      <td>9766</td>\n",
              "      <td>11772</td>\n",
              "    </tr>\n",
              "    <tr>\n",
              "      <th>1068471</th>\n",
              "      <td>255121</td>\n",
              "      <td>0835604500</td>\n",
              "      <td>0.0</td>\n",
              "      <td>97264</td>\n",
              "      <td>326951</td>\n",
              "    </tr>\n",
              "    <tr>\n",
              "      <th>673766</th>\n",
              "      <td>163875</td>\n",
              "      <td>0671721097</td>\n",
              "      <td>0.0</td>\n",
              "      <td>62629</td>\n",
              "      <td>25425</td>\n",
              "    </tr>\n",
              "    <tr>\n",
              "      <th>931491</th>\n",
              "      <td>225996</td>\n",
              "      <td>0738702552</td>\n",
              "      <td>0.0</td>\n",
              "      <td>85989</td>\n",
              "      <td>86544</td>\n",
              "    </tr>\n",
              "    <tr>\n",
              "      <th>487894</th>\n",
              "      <td>116122</td>\n",
              "      <td>0553270443</td>\n",
              "      <td>0.0</td>\n",
              "      <td>44806</td>\n",
              "      <td>56845</td>\n",
              "    </tr>\n",
              "    <tr>\n",
              "      <th>...</th>\n",
              "      <td>...</td>\n",
              "      <td>...</td>\n",
              "      <td>...</td>\n",
              "      <td>...</td>\n",
              "      <td>...</td>\n",
              "    </tr>\n",
              "    <tr>\n",
              "      <th>10394</th>\n",
              "      <td>311</td>\n",
              "      <td>0670815373</td>\n",
              "      <td>0.0</td>\n",
              "      <td>959</td>\n",
              "      <td>9639</td>\n",
              "    </tr>\n",
              "    <tr>\n",
              "      <th>1049785</th>\n",
              "      <td>251013</td>\n",
              "      <td>0061091561</td>\n",
              "      <td>0.0</td>\n",
              "      <td>95617</td>\n",
              "      <td>21972</td>\n",
              "    </tr>\n",
              "    <tr>\n",
              "      <th>178094</th>\n",
              "      <td>38654</td>\n",
              "      <td>0671020307</td>\n",
              "      <td>0.0</td>\n",
              "      <td>15515</td>\n",
              "      <td>37594</td>\n",
              "    </tr>\n",
              "    <tr>\n",
              "      <th>510579</th>\n",
              "      <td>123981</td>\n",
              "      <td>0671866885</td>\n",
              "      <td>0.0</td>\n",
              "      <td>47761</td>\n",
              "      <td>154825</td>\n",
              "    </tr>\n",
              "    <tr>\n",
              "      <th>928689</th>\n",
              "      <td>225763</td>\n",
              "      <td>1563245590</td>\n",
              "      <td>0.0</td>\n",
              "      <td>85907</td>\n",
              "      <td>302062</td>\n",
              "    </tr>\n",
              "  </tbody>\n",
              "</table>\n",
              "<p>1149780 rows × 5 columns</p>\n",
              "</div>\n",
              "    <div class=\"colab-df-buttons\">\n",
              "\n",
              "  <div class=\"colab-df-container\">\n",
              "    <button class=\"colab-df-convert\" onclick=\"convertToInteractive('df-0365a715-48dc-4103-a383-c2fb96c99f1d')\"\n",
              "            title=\"Convert this dataframe to an interactive table.\"\n",
              "            style=\"display:none;\">\n",
              "\n",
              "  <svg xmlns=\"http://www.w3.org/2000/svg\" height=\"24px\" viewBox=\"0 -960 960 960\">\n",
              "    <path d=\"M120-120v-720h720v720H120Zm60-500h600v-160H180v160Zm220 220h160v-160H400v160Zm0 220h160v-160H400v160ZM180-400h160v-160H180v160Zm440 0h160v-160H620v160ZM180-180h160v-160H180v160Zm440 0h160v-160H620v160Z\"/>\n",
              "  </svg>\n",
              "    </button>\n",
              "\n",
              "  <style>\n",
              "    .colab-df-container {\n",
              "      display:flex;\n",
              "      gap: 12px;\n",
              "    }\n",
              "\n",
              "    .colab-df-convert {\n",
              "      background-color: #E8F0FE;\n",
              "      border: none;\n",
              "      border-radius: 50%;\n",
              "      cursor: pointer;\n",
              "      display: none;\n",
              "      fill: #1967D2;\n",
              "      height: 32px;\n",
              "      padding: 0 0 0 0;\n",
              "      width: 32px;\n",
              "    }\n",
              "\n",
              "    .colab-df-convert:hover {\n",
              "      background-color: #E2EBFA;\n",
              "      box-shadow: 0px 1px 2px rgba(60, 64, 67, 0.3), 0px 1px 3px 1px rgba(60, 64, 67, 0.15);\n",
              "      fill: #174EA6;\n",
              "    }\n",
              "\n",
              "    .colab-df-buttons div {\n",
              "      margin-bottom: 4px;\n",
              "    }\n",
              "\n",
              "    [theme=dark] .colab-df-convert {\n",
              "      background-color: #3B4455;\n",
              "      fill: #D2E3FC;\n",
              "    }\n",
              "\n",
              "    [theme=dark] .colab-df-convert:hover {\n",
              "      background-color: #434B5C;\n",
              "      box-shadow: 0px 1px 3px 1px rgba(0, 0, 0, 0.15);\n",
              "      filter: drop-shadow(0px 1px 2px rgba(0, 0, 0, 0.3));\n",
              "      fill: #FFFFFF;\n",
              "    }\n",
              "  </style>\n",
              "\n",
              "    <script>\n",
              "      const buttonEl =\n",
              "        document.querySelector('#df-0365a715-48dc-4103-a383-c2fb96c99f1d button.colab-df-convert');\n",
              "      buttonEl.style.display =\n",
              "        google.colab.kernel.accessAllowed ? 'block' : 'none';\n",
              "\n",
              "      async function convertToInteractive(key) {\n",
              "        const element = document.querySelector('#df-0365a715-48dc-4103-a383-c2fb96c99f1d');\n",
              "        const dataTable =\n",
              "          await google.colab.kernel.invokeFunction('convertToInteractive',\n",
              "                                                    [key], {});\n",
              "        if (!dataTable) return;\n",
              "\n",
              "        const docLinkHtml = 'Like what you see? Visit the ' +\n",
              "          '<a target=\"_blank\" href=https://colab.research.google.com/notebooks/data_table.ipynb>data table notebook</a>'\n",
              "          + ' to learn more about interactive tables.';\n",
              "        element.innerHTML = '';\n",
              "        dataTable['output_type'] = 'display_data';\n",
              "        await google.colab.output.renderOutput(dataTable, element);\n",
              "        const docLink = document.createElement('div');\n",
              "        docLink.innerHTML = docLinkHtml;\n",
              "        element.appendChild(docLink);\n",
              "      }\n",
              "    </script>\n",
              "  </div>\n",
              "\n",
              "\n",
              "<div id=\"df-981f8b73-e87a-41b6-beda-f93e921ef8af\">\n",
              "  <button class=\"colab-df-quickchart\" onclick=\"quickchart('df-981f8b73-e87a-41b6-beda-f93e921ef8af')\"\n",
              "            title=\"Suggest charts.\"\n",
              "            style=\"display:none;\">\n",
              "\n",
              "<svg xmlns=\"http://www.w3.org/2000/svg\" height=\"24px\"viewBox=\"0 0 24 24\"\n",
              "     width=\"24px\">\n",
              "    <g>\n",
              "        <path d=\"M19 3H5c-1.1 0-2 .9-2 2v14c0 1.1.9 2 2 2h14c1.1 0 2-.9 2-2V5c0-1.1-.9-2-2-2zM9 17H7v-7h2v7zm4 0h-2V7h2v10zm4 0h-2v-4h2v4z\"/>\n",
              "    </g>\n",
              "</svg>\n",
              "  </button>\n",
              "\n",
              "<style>\n",
              "  .colab-df-quickchart {\n",
              "      --bg-color: #E8F0FE;\n",
              "      --fill-color: #1967D2;\n",
              "      --hover-bg-color: #E2EBFA;\n",
              "      --hover-fill-color: #174EA6;\n",
              "      --disabled-fill-color: #AAA;\n",
              "      --disabled-bg-color: #DDD;\n",
              "  }\n",
              "\n",
              "  [theme=dark] .colab-df-quickchart {\n",
              "      --bg-color: #3B4455;\n",
              "      --fill-color: #D2E3FC;\n",
              "      --hover-bg-color: #434B5C;\n",
              "      --hover-fill-color: #FFFFFF;\n",
              "      --disabled-bg-color: #3B4455;\n",
              "      --disabled-fill-color: #666;\n",
              "  }\n",
              "\n",
              "  .colab-df-quickchart {\n",
              "    background-color: var(--bg-color);\n",
              "    border: none;\n",
              "    border-radius: 50%;\n",
              "    cursor: pointer;\n",
              "    display: none;\n",
              "    fill: var(--fill-color);\n",
              "    height: 32px;\n",
              "    padding: 0;\n",
              "    width: 32px;\n",
              "  }\n",
              "\n",
              "  .colab-df-quickchart:hover {\n",
              "    background-color: var(--hover-bg-color);\n",
              "    box-shadow: 0 1px 2px rgba(60, 64, 67, 0.3), 0 1px 3px 1px rgba(60, 64, 67, 0.15);\n",
              "    fill: var(--button-hover-fill-color);\n",
              "  }\n",
              "\n",
              "  .colab-df-quickchart-complete:disabled,\n",
              "  .colab-df-quickchart-complete:disabled:hover {\n",
              "    background-color: var(--disabled-bg-color);\n",
              "    fill: var(--disabled-fill-color);\n",
              "    box-shadow: none;\n",
              "  }\n",
              "\n",
              "  .colab-df-spinner {\n",
              "    border: 2px solid var(--fill-color);\n",
              "    border-color: transparent;\n",
              "    border-bottom-color: var(--fill-color);\n",
              "    animation:\n",
              "      spin 1s steps(1) infinite;\n",
              "  }\n",
              "\n",
              "  @keyframes spin {\n",
              "    0% {\n",
              "      border-color: transparent;\n",
              "      border-bottom-color: var(--fill-color);\n",
              "      border-left-color: var(--fill-color);\n",
              "    }\n",
              "    20% {\n",
              "      border-color: transparent;\n",
              "      border-left-color: var(--fill-color);\n",
              "      border-top-color: var(--fill-color);\n",
              "    }\n",
              "    30% {\n",
              "      border-color: transparent;\n",
              "      border-left-color: var(--fill-color);\n",
              "      border-top-color: var(--fill-color);\n",
              "      border-right-color: var(--fill-color);\n",
              "    }\n",
              "    40% {\n",
              "      border-color: transparent;\n",
              "      border-right-color: var(--fill-color);\n",
              "      border-top-color: var(--fill-color);\n",
              "    }\n",
              "    60% {\n",
              "      border-color: transparent;\n",
              "      border-right-color: var(--fill-color);\n",
              "    }\n",
              "    80% {\n",
              "      border-color: transparent;\n",
              "      border-right-color: var(--fill-color);\n",
              "      border-bottom-color: var(--fill-color);\n",
              "    }\n",
              "    90% {\n",
              "      border-color: transparent;\n",
              "      border-bottom-color: var(--fill-color);\n",
              "    }\n",
              "  }\n",
              "</style>\n",
              "\n",
              "  <script>\n",
              "    async function quickchart(key) {\n",
              "      const quickchartButtonEl =\n",
              "        document.querySelector('#' + key + ' button');\n",
              "      quickchartButtonEl.disabled = true;  // To prevent multiple clicks.\n",
              "      quickchartButtonEl.classList.add('colab-df-spinner');\n",
              "      try {\n",
              "        const charts = await google.colab.kernel.invokeFunction(\n",
              "            'suggestCharts', [key], {});\n",
              "      } catch (error) {\n",
              "        console.error('Error during call to suggestCharts:', error);\n",
              "      }\n",
              "      quickchartButtonEl.classList.remove('colab-df-spinner');\n",
              "      quickchartButtonEl.classList.add('colab-df-quickchart-complete');\n",
              "    }\n",
              "    (() => {\n",
              "      let quickchartButtonEl =\n",
              "        document.querySelector('#df-981f8b73-e87a-41b6-beda-f93e921ef8af button');\n",
              "      quickchartButtonEl.style.display =\n",
              "        google.colab.kernel.accessAllowed ? 'block' : 'none';\n",
              "    })();\n",
              "  </script>\n",
              "</div>\n",
              "    </div>\n",
              "  </div>\n"
            ]
          },
          "metadata": {},
          "execution_count": 24
        }
      ],
      "source": [
        "df = df.sample(frac=1, random_state=420)\n",
        "df"
      ],
      "metadata": {
        "ExecuteTime": {
          "end_time": "2023-10-08T23:42:41.989502300Z",
          "start_time": "2023-10-08T23:42:41.397462600Z"
        },
        "colab": {
          "base_uri": "https://localhost:8080/",
          "height": 424
        },
        "id": "474d6e7a3bbe14a4",
        "outputId": "5fbddc82-02db-426b-aab3-9de86f9e0aa9"
      },
      "id": "474d6e7a3bbe14a4"
    },
    {
      "cell_type": "markdown",
      "source": [
        "#### Mapping Data User dan Book Menjadi Satu Dataframe Tersendiri Sebagai Data Input"
      ],
      "metadata": {
        "collapsed": false,
        "id": "c67f25e5036f56fe"
      },
      "id": "c67f25e5036f56fe"
    },
    {
      "cell_type": "code",
      "execution_count": null,
      "outputs": [
        {
          "output_type": "execute_result",
          "data": {
            "text/plain": [
              "array([[  9766,  11772],\n",
              "       [ 97264, 326951],\n",
              "       [ 62629,  25425],\n",
              "       ...,\n",
              "       [ 15515,  37594],\n",
              "       [ 47761, 154825],\n",
              "       [ 85907, 302062]])"
            ]
          },
          "metadata": {},
          "execution_count": 25
        }
      ],
      "source": [
        "X = df[['user', 'book']].values\n",
        "X"
      ],
      "metadata": {
        "ExecuteTime": {
          "end_time": "2023-10-08T23:42:46.259131700Z",
          "start_time": "2023-10-08T23:42:46.194304Z"
        },
        "colab": {
          "base_uri": "https://localhost:8080/"
        },
        "id": "b085016ef2b47403",
        "outputId": "a6a78c40-1c67-41d2-ed15-901e014fb343"
      },
      "id": "b085016ef2b47403"
    },
    {
      "cell_type": "markdown",
      "source": [
        "#### Mapping Data Book-Rating Menjadi Satu Dataframe Tersendiri Sebagai Label"
      ],
      "metadata": {
        "collapsed": false,
        "id": "9e60bab34a2d939d"
      },
      "id": "9e60bab34a2d939d"
    },
    {
      "cell_type": "code",
      "execution_count": null,
      "outputs": [
        {
          "output_type": "execute_result",
          "data": {
            "text/plain": [
              "array([0., 0., 0., ..., 0., 0., 0.])"
            ]
          },
          "metadata": {},
          "execution_count": 26
        }
      ],
      "source": [
        "y = df['Book-Rating'].values\n",
        "y"
      ],
      "metadata": {
        "ExecuteTime": {
          "end_time": "2023-10-08T23:42:56.054382100Z",
          "start_time": "2023-10-08T23:42:56.033438200Z"
        },
        "colab": {
          "base_uri": "https://localhost:8080/"
        },
        "id": "72dea24f292dd6a7",
        "outputId": "a121aadd-e484-4dbc-ac50-b3602ed3547c"
      },
      "id": "72dea24f292dd6a7"
    },
    {
      "cell_type": "markdown",
      "source": [
        "#### Scaling Data Menggunakan MinMaxScaler"
      ],
      "metadata": {
        "collapsed": false,
        "id": "38a0f268930d9706"
      },
      "id": "38a0f268930d9706"
    },
    {
      "cell_type": "code",
      "execution_count": null,
      "outputs": [
        {
          "output_type": "execute_result",
          "data": {
            "text/plain": [
              "array([[0.],\n",
              "       [0.],\n",
              "       [0.],\n",
              "       ...,\n",
              "       [0.],\n",
              "       [0.],\n",
              "       [0.]])"
            ]
          },
          "metadata": {},
          "execution_count": 27
        }
      ],
      "source": [
        "scaler = MinMaxScaler()\n",
        "y = scaler.fit_transform(y.reshape(-1, 1))\n",
        "y"
      ],
      "metadata": {
        "ExecuteTime": {
          "end_time": "2023-10-08T23:43:06.661743700Z",
          "start_time": "2023-10-08T23:43:06.205459200Z"
        },
        "colab": {
          "base_uri": "https://localhost:8080/"
        },
        "id": "1a7cace5e75283e7",
        "outputId": "81f77914-4cf9-4aad-fafb-a4cb1a913eac"
      },
      "id": "1a7cace5e75283e7"
    },
    {
      "cell_type": "markdown",
      "source": [
        "#### Membagi Data Train dan Data Validasi Dengan Rasio 80:20"
      ],
      "metadata": {
        "collapsed": false,
        "id": "47b5c6a616f8481a"
      },
      "id": "47b5c6a616f8481a"
    },
    {
      "cell_type": "code",
      "execution_count": null,
      "outputs": [],
      "source": [
        "train_samples = int(0.8 * df.shape[0])\n",
        "X_train, X_test, y_train, y_test = X[:train_samples], X[train_samples:], y[:train_samples], y[train_samples:]"
      ],
      "metadata": {
        "ExecuteTime": {
          "end_time": "2023-10-08T23:43:15.077378800Z",
          "start_time": "2023-10-08T23:43:15.061407100Z"
        },
        "id": "6534c9186fe289b7"
      },
      "id": "6534c9186fe289b7"
    },
    {
      "cell_type": "markdown",
      "source": [
        "# Modeling and Result"
      ],
      "metadata": {
        "collapsed": false,
        "id": "479cb1addfcad5e2"
      },
      "id": "479cb1addfcad5e2"
    },
    {
      "cell_type": "markdown",
      "source": [
        "#### Membuat Model Recommender"
      ],
      "metadata": {
        "collapsed": false,
        "id": "609beccba71324d8"
      },
      "id": "609beccba71324d8"
    },
    {
      "cell_type": "code",
      "execution_count": null,
      "outputs": [],
      "source": [
        "class RecommenderNet(tf.keras.Model):\n",
        "  def __init__(self, num_user, num_book, embedding_size, **kwargs):\n",
        "    super(RecommenderNet, self).__init__(**kwargs)\n",
        "    self.num_user = num_user\n",
        "    self.num_book = num_book\n",
        "    self.embedding_size = embedding_size\n",
        "    self.user_embedding = tf.keras.layers.Embedding(\n",
        "        num_user,\n",
        "        embedding_size,\n",
        "        embeddings_initializer = 'he_normal',\n",
        "        embeddings_regularizer = tf.keras.regularizers.l2(1e-6)\n",
        "    )\n",
        "    self.user_bias = tf.keras.layers.Embedding(num_user, 1)\n",
        "    self.book_embedding = tf.keras.layers.Embedding(\n",
        "        num_book,\n",
        "        embedding_size,\n",
        "        embeddings_initializer = 'he_normal',\n",
        "        embeddings_regularizer = tf.keras.regularizers.l2(1e-6)\n",
        "    )\n",
        "    self.book_bias = tf.keras.layers.Embedding(num_book, 1)\n",
        "\n",
        "  def call(self, inputs):\n",
        "    user_vector = self.user_embedding(inputs[:,0])\n",
        "    user_bias = self.user_bias(inputs[:, 0])\n",
        "    book_vector = self.book_embedding(inputs[:, 1])\n",
        "    book_bias = self.book_bias(inputs[:, 1])\n",
        "\n",
        "    dot_user_book = tf.tensordot(user_vector, book_vector, 2)\n",
        "\n",
        "    x = dot_user_book + user_bias + book_bias\n",
        "\n",
        "    return tf.nn.sigmoid(x)"
      ],
      "metadata": {
        "ExecuteTime": {
          "end_time": "2023-10-08T23:51:16.146848600Z",
          "start_time": "2023-10-08T23:51:15.860118Z"
        },
        "id": "1a15f9021ba68e83"
      },
      "id": "1a15f9021ba68e83"
    },
    {
      "cell_type": "markdown",
      "source": [
        "#### Menginstansiasi Model"
      ],
      "metadata": {
        "collapsed": false,
        "id": "597220797641f525"
      },
      "id": "597220797641f525"
    },
    {
      "cell_type": "code",
      "execution_count": null,
      "outputs": [],
      "source": [
        "model = RecommenderNet(num_user = len(users_to_encoded), num_book = len(isbn_to_encoded), embedding_size = 50)"
      ],
      "metadata": {
        "ExecuteTime": {
          "end_time": "2023-10-08T23:53:30.874674900Z",
          "start_time": "2023-10-08T23:53:30.675693300Z"
        },
        "id": "7b448b2e84b2d303"
      },
      "id": "7b448b2e84b2d303"
    },
    {
      "cell_type": "markdown",
      "source": [
        "#### Menentukan Optimizer, Loss Function, dan Metric"
      ],
      "metadata": {
        "collapsed": false,
        "id": "30e670605be777b2"
      },
      "id": "30e670605be777b2"
    },
    {
      "cell_type": "code",
      "execution_count": null,
      "outputs": [],
      "source": [
        "model.compile(\n",
        "    loss = tf.keras.losses.BinaryCrossentropy(),\n",
        "    optimizer = tf.keras.optimizers.Adam(learning_rate = 0.001),\n",
        "    metrics = [tf.keras.metrics.RootMeanSquaredError()]\n",
        ")"
      ],
      "metadata": {
        "ExecuteTime": {
          "end_time": "2023-10-08T23:54:24.395006400Z",
          "start_time": "2023-10-08T23:54:24.292282Z"
        },
        "id": "3995a17d95da81d1"
      },
      "id": "3995a17d95da81d1"
    },
    {
      "cell_type": "markdown",
      "source": [
        "#### Melakukan Training Model"
      ],
      "metadata": {
        "collapsed": false,
        "id": "6dbb3d60d0cb33a7"
      },
      "id": "6dbb3d60d0cb33a7"
    },
    {
      "cell_type": "code",
      "execution_count": null,
      "outputs": [
        {
          "output_type": "stream",
          "name": "stdout",
          "text": [
            "Epoch 1/10\n",
            "28745/28745 [==============================] - 335s 12ms/step - loss: 0.4785 - root_mean_squared_error: 0.3142 - val_loss: 0.5253 - val_root_mean_squared_error: 0.3413\n",
            "Epoch 2/10\n",
            "28745/28745 [==============================] - 335s 12ms/step - loss: 0.4745 - root_mean_squared_error: 0.3115 - val_loss: 0.5277 - val_root_mean_squared_error: 0.3420\n",
            "Epoch 3/10\n",
            "28745/28745 [==============================] - 332s 12ms/step - loss: 0.4709 - root_mean_squared_error: 0.3091 - val_loss: 0.5302 - val_root_mean_squared_error: 0.3427\n",
            "Epoch 4/10\n",
            "28745/28745 [==============================] - 336s 12ms/step - loss: 0.4678 - root_mean_squared_error: 0.3069 - val_loss: 0.5338 - val_root_mean_squared_error: 0.3439\n",
            "Epoch 5/10\n",
            "28745/28745 [==============================] - 333s 12ms/step - loss: 0.4652 - root_mean_squared_error: 0.3050 - val_loss: 0.5367 - val_root_mean_squared_error: 0.3449\n",
            "Epoch 6/10\n",
            "28745/28745 [==============================] - 315s 11ms/step - loss: 0.4627 - root_mean_squared_error: 0.3033 - val_loss: 0.5398 - val_root_mean_squared_error: 0.3458\n",
            "Epoch 7/10\n",
            "28745/28745 [==============================] - 330s 11ms/step - loss: 0.4604 - root_mean_squared_error: 0.3016 - val_loss: 0.5431 - val_root_mean_squared_error: 0.3469\n",
            "Epoch 8/10\n",
            "28745/28745 [==============================] - 314s 11ms/step - loss: 0.4585 - root_mean_squared_error: 0.3001 - val_loss: 0.5463 - val_root_mean_squared_error: 0.3480\n",
            "Epoch 9/10\n",
            "28745/28745 [==============================] - 336s 12ms/step - loss: 0.4565 - root_mean_squared_error: 0.2987 - val_loss: 0.5492 - val_root_mean_squared_error: 0.3489\n",
            "Epoch 10/10\n",
            "28745/28745 [==============================] - 335s 12ms/step - loss: 0.4548 - root_mean_squared_error: 0.2974 - val_loss: 0.5523 - val_root_mean_squared_error: 0.3499\n"
          ]
        }
      ],
      "source": [
        "history = model.fit(\n",
        "    x = X_train,\n",
        "    y = y_train,\n",
        "    batch_size = 32,\n",
        "    epochs = 10,\n",
        "    validation_data = (X_test, y_test)\n",
        ")"
      ],
      "metadata": {
        "ExecuteTime": {
          "end_time": "2023-10-08T23:55:16.180646700Z",
          "start_time": "2023-10-08T23:55:01.533366800Z"
        },
        "colab": {
          "base_uri": "https://localhost:8080/"
        },
        "id": "196356f121f8a41f",
        "outputId": "1dbdb3f9-1b81-4bc6-a6e0-1e54105d3ab9"
      },
      "id": "196356f121f8a41f"
    },
    {
      "cell_type": "markdown",
      "source": [
        "#### Prediksi"
      ],
      "metadata": {
        "id": "fprOSexRPe-O"
      },
      "id": "fprOSexRPe-O"
    },
    {
      "cell_type": "code",
      "source": [
        "df_book = books\n",
        "df_rating = ratings\n",
        "\n",
        "user_id = df_rating['User-ID'].sample(1).iloc[0]\n",
        "book_get_rating_by_user = df_rating[df_rating['User-ID'] == user_id]\n",
        "\n",
        "book_not_get_rating = df_book[~df_book['ISBN'].isin(book_get_rating_by_user['ISBN'].values)]['ISBN']\n",
        "book_not_get_rating = list(\n",
        "    set(book_not_get_rating)\n",
        "    .intersection(set(isbn_to_encoded.keys()))\n",
        ")\n",
        "\n",
        "book_not_get_rating = [[isbn_to_encoded.get(x)] for x in book_not_get_rating]\n",
        "user_encoder = users_to_encoded.get(user_id)\n",
        "user_book_array = np.hstack(\n",
        "    ([[user_encoder]] * len(book_not_get_rating), book_not_get_rating))\n",
        "\n",
        "ratings_predict = model.predict(user_book_array).flatten()\n",
        "\n",
        "top_ratings_indices = ratings_predict.argsort()[-10:][::-1]\n",
        "recommended_book_ids = [\n",
        "    encoded_to_isbn.get(book_not_get_rating[x][0]) for x in top_ratings_indices\n",
        "]\n",
        "\n",
        "print('User-ID:', user_id)\n",
        "print('Recommended Book ISBN:')\n",
        "recommended_book = df_book[df_book['ISBN'].isin(recommended_book_ids)]\n",
        "for row in recommended_book.itertuples():\n",
        "  print(row.ISBN, ':', row._2)"
      ],
      "metadata": {
        "colab": {
          "base_uri": "https://localhost:8080/"
        },
        "id": "m7oqGkM7-krU",
        "outputId": "5dc899ff-6fae-4a62-d41f-0863b0c50b90"
      },
      "id": "m7oqGkM7-krU",
      "execution_count": null,
      "outputs": [
        {
          "output_type": "stream",
          "name": "stdout",
          "text": [
            "8262/8262 [==============================] - 18s 2ms/step\n",
            "User-ID: 98391\n",
            "Recommended Book ISBN:\n",
            "0671468464 : King Lear\n",
            "0670870897 : Without a Doubt\n",
            "0712345337 : The Original Alice: From Manuscript to Wonderland\n",
            "0312204272 : The Museum Guard: A Novel\n",
            "3257232624 : Oberchaoten.\n",
            "0889842078 : Abby Malone\n",
            "0764551809 : Nutrition for Dummies\n",
            "0375703365 : Train Whistle Guitar\n",
            "1583225676 : The Nanny and the Iceberg\n",
            "0465090443 : Vital Dust: Life As a Cosmic Imperative\n"
          ]
        }
      ]
    },
    {
      "cell_type": "markdown",
      "source": [
        "# Evaluasi"
      ],
      "metadata": {
        "id": "MW2pfvW_3d5L"
      },
      "id": "MW2pfvW_3d5L"
    },
    {
      "cell_type": "markdown",
      "source": [
        "#### Visualisasi Metrik MSE"
      ],
      "metadata": {
        "id": "mnShDvWp2L5S"
      },
      "id": "mnShDvWp2L5S"
    },
    {
      "cell_type": "code",
      "source": [
        "plt.plot(history.history['root_mean_squared_error'])\n",
        "plt.plot(history.history['val_root_mean_squared_error'])\n",
        "plt.title('model_metrics')\n",
        "plt.ylabel('root_mean_squared_error')\n",
        "plt.xlabel('epoch')\n",
        "plt.legend(['train', 'test'], loc='upper left')\n",
        "plt.show()"
      ],
      "metadata": {
        "colab": {
          "base_uri": "https://localhost:8080/",
          "height": 472
        },
        "id": "P_kKpS-e0OAz",
        "outputId": "d6148aaa-20db-4db9-89d1-b39deb5fec0b"
      },
      "id": "P_kKpS-e0OAz",
      "execution_count": null,
      "outputs": [
        {
          "output_type": "display_data",
          "data": {
            "text/plain": [
              "<Figure size 640x480 with 1 Axes>"
            ],
            "image/png": "[encoded data removed]"
          },
          "metadata": {}
        }
      ]
    }
  ],
  "metadata": {
    "kernelspec": {
      "display_name": "Python 3",
      "name": "python3"
    },
    "language_info": {
      "codemirror_mode": {
        "name": "ipython",
        "version": 2
      },
      "file_extension": ".py",
      "mimetype": "text/x-python",
      "name": "python",
      "nbconvert_exporter": "python",
      "pygments_lexer": "ipython2",
      "version": "2.7.6"
    },
    "colab": {
      "provenance": [],
      "gpuType": "T4"
    },
    "accelerator": "GPU"
  },
  "nbformat": 4,
  "nbformat_minor": 5
}